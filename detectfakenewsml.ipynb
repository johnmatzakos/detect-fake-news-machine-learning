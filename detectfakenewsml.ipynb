{
 "cells": [
  {
   "cell_type": "markdown",
   "id": "649ac14f",
   "metadata": {
    "papermill": {
     "duration": 0.020381,
     "end_time": "2022-04-04T10:41:57.492443",
     "exception": false,
     "start_time": "2022-04-04T10:41:57.472062",
     "status": "completed"
    },
    "tags": []
   },
   "source": [
    "# **Detecting Fake News Using Machine Learning Algorithms**"
   ]
  },
  {
   "cell_type": "code",
   "execution_count": 1,
   "id": "d6b4ec01",
   "metadata": {
    "_cell_guid": "b1076dfc-b9ad-4769-8c92-a6c4dae69d19",
    "_uuid": "8f2839f25d086af736a60e9eeb907d3b93b6e0e5",
    "execution": {
     "iopub.execute_input": "2022-04-04T10:41:57.544653Z",
     "iopub.status.busy": "2022-04-04T10:41:57.543455Z",
     "iopub.status.idle": "2022-04-04T10:42:07.818882Z",
     "shell.execute_reply": "2022-04-04T10:42:07.818223Z"
    },
    "papermill": {
     "duration": 10.305508,
     "end_time": "2022-04-04T10:42:07.819065",
     "exception": false,
     "start_time": "2022-04-04T10:41:57.513557",
     "status": "completed"
    },
    "tags": []
   },
   "outputs": [],
   "source": [
    "import os\n",
    "import pandas as pd\n",
    "import numpy as np\n",
    "import seaborn as sns\n",
    "import matplotlib.pyplot as plt\n",
    "import nltk\n",
    "from nltk.corpus import stopwords\n",
    "from nltk.tokenize import word_tokenize\n",
    "import spacy\n",
    "import statistics\n",
    "from collections import Counter\n",
    "import sklearn"
   ]
  },
  {
   "cell_type": "markdown",
   "id": "cf731fdd",
   "metadata": {
    "papermill": {
     "duration": 0.019795,
     "end_time": "2022-04-04T10:42:07.859220",
     "exception": false,
     "start_time": "2022-04-04T10:42:07.839425",
     "status": "completed"
    },
    "tags": []
   },
   "source": [
    "# **Data Preparation**"
   ]
  },
  {
   "cell_type": "code",
   "execution_count": 2,
   "id": "69f84726",
   "metadata": {
    "execution": {
     "iopub.execute_input": "2022-04-04T10:42:07.902042Z",
     "iopub.status.busy": "2022-04-04T10:42:07.901231Z",
     "iopub.status.idle": "2022-04-04T10:42:10.154207Z",
     "shell.execute_reply": "2022-04-04T10:42:10.155502Z"
    },
    "papermill": {
     "duration": 2.276632,
     "end_time": "2022-04-04T10:42:10.155730",
     "exception": false,
     "start_time": "2022-04-04T10:42:07.879098",
     "status": "completed"
    },
    "tags": []
   },
   "outputs": [
    {
     "name": "stdout",
     "output_type": "stream",
     "text": [
      "\n",
      "Dataset Sizes:\n",
      "Fake News: (23481, 5)\n",
      "Real News: (21417, 5)\n"
     ]
    }
   ],
   "source": [
    "# import the data in pandas dataframes\n",
    "fake_news = pd.read_csv('../input/fake-and-real-news-dataset/Fake.csv')\n",
    "real_news = pd.read_csv('../input/fake-and-real-news-dataset/True.csv')\n",
    "\n",
    "# create a new column with the class of each article in the dataset\n",
    "fake_news[\"label\"] = \"fake\"\n",
    "real_news[\"label\"] = \"real\"\n",
    "\n",
    "# print dataset sizes\n",
    "print(\"\\nDataset Sizes:\")\n",
    "print (f\"Fake News: {fake_news.shape}\")\n",
    "print (f\"Real News: {real_news.shape}\")"
   ]
  },
  {
   "cell_type": "code",
   "execution_count": 3,
   "id": "ade952b6",
   "metadata": {
    "execution": {
     "iopub.execute_input": "2022-04-04T10:42:10.240091Z",
     "iopub.status.busy": "2022-04-04T10:42:10.239499Z",
     "iopub.status.idle": "2022-04-04T10:42:14.472337Z",
     "shell.execute_reply": "2022-04-04T10:42:14.471804Z"
    },
    "papermill": {
     "duration": 4.2809,
     "end_time": "2022-04-04T10:42:14.472472",
     "exception": false,
     "start_time": "2022-04-04T10:42:10.191572",
     "status": "completed"
    },
    "tags": []
   },
   "outputs": [
    {
     "name": "stdout",
     "output_type": "stream",
     "text": [
      "['News' 'politics' 'Government News' 'left-news' 'US_News' 'Middle-east']\n",
      "['politicsNews' 'worldnews']\n",
      "\n",
      "Dataset Sizes:\n",
      "Fake News: (23481, 5)\n",
      "Real News: (21415, 5)\n",
      "\n"
     ]
    }
   ],
   "source": [
    "# Remove location and publisher columns from real news dataframe for consistency with the fake news dataframe\n",
    "real_news[\"text\"] = real_news['text'].apply(lambda x: x.partition(\"-\")[2])\n",
    "\n",
    "# Display the subjects included in the dataset.\n",
    "print (fake_news[\"subject\"].unique())\n",
    "print (real_news[\"subject\"].unique())\n",
    "\n",
    "# Remove articles with only pictures or no text at all\n",
    "real_news = real_news[real_news[\"text\"] != \"\"] \n",
    "fake_news = fake_news[fake_news[\"text\"] != \"\"] \n",
    "\n",
    "# Print dataset sizes\n",
    "print(\"\\nDataset Sizes:\")\n",
    "print(f\"Fake News: {fake_news.shape}\")\n",
    "print(f\"Real News: {real_news.shape}\")\n",
    "\n",
    "print()\n",
    "\n",
    "# Save the prepared dataset to .csv files\n",
    "fake_news.to_csv('fakeForModeling.csv')\n",
    "#!cp fakeForModeling.csv \"./\"\n",
    "real_news.to_csv('trueForModeling.csv')\n",
    "#!cp trueForModeling.csv \"./\""
   ]
  },
  {
   "cell_type": "markdown",
   "id": "4e43998f",
   "metadata": {
    "papermill": {
     "duration": 0.024547,
     "end_time": "2022-04-04T10:42:14.520404",
     "exception": false,
     "start_time": "2022-04-04T10:42:14.495857",
     "status": "completed"
    },
    "tags": []
   },
   "source": [
    "# **Data Cleansing And Pre-Processing**"
   ]
  },
  {
   "cell_type": "code",
   "execution_count": 4,
   "id": "cd3cf2a6",
   "metadata": {
    "execution": {
     "iopub.execute_input": "2022-04-04T10:42:14.575108Z",
     "iopub.status.busy": "2022-04-04T10:42:14.565596Z",
     "iopub.status.idle": "2022-04-04T10:42:14.590281Z",
     "shell.execute_reply": "2022-04-04T10:42:14.589832Z"
    },
    "papermill": {
     "duration": 0.046986,
     "end_time": "2022-04-04T10:42:14.590393",
     "exception": false,
     "start_time": "2022-04-04T10:42:14.543407",
     "status": "completed"
    },
    "tags": []
   },
   "outputs": [],
   "source": [
    "import string\n",
    "import nltk\n",
    "# nltk.download(\"stopwords\")\n",
    "from nltk.corpus import stopwords\n",
    "from nltk.stem import WordNetLemmatizer \n",
    "import requests\n",
    "\n",
    "stop_words = list(stopwords.words('english'))\n",
    "#additional stopwords\n",
    "stop_words.extend([\"said\", \"reuters\", \"CNN\", \"image\", \"via\", 'monday', 'tuesday', 'wednesday', 'thursday', 'friday']) \n",
    "# opening the file in read mode\n",
    "extra_stopwords_file = open(\"../input/stopwords/stopwords-en.txt\", \"r\")\n",
    "# reading the file\n",
    "extra_stopwords = extra_stopwords_file.read()\n",
    "# replacing end splitting the text when newline ('\\n') is seen.\n",
    "extra_stopwords_list = extra_stopwords.split(\"\\n\")\n",
    "# closing the file\n",
    "extra_stopwords_file.close()\n",
    "# appending the list of stopwords\n",
    "stop_words.extend(extra_stopwords_list)\n",
    "\n",
    "# Initialize the lemmatization process\n",
    "lemmatizer = WordNetLemmatizer()  \n",
    "\n",
    "words_in_t = [] #all tokens in true articles\n",
    "words_in_f = [] #all tokens in fake articles\n",
    "words_in_each_article_t = [] #list of true articles, each in tokenized form\n",
    "words_in_each_article_f = [] #list of fake articles, each in tokenized form\n",
    "\n",
    "def tokenize(article):\n",
    "    '''\n",
    "    Transforms all words into tokens\n",
    "    '''\n",
    "    return word_tokenize(article)\n",
    "\n",
    "def to_lower_case(words):\n",
    "    '''\n",
    "    Transforms all words to lower case\n",
    "    '''\n",
    "    return [word.lower() for word in words if word.isalpha()]\n",
    "\n",
    "def remove_stopwords_punctuation(words):\n",
    "    '''\n",
    "    Removes stopwords and punctuation from the dataset\n",
    "    '''\n",
    "    return [word for word in words if word not in string.punctuation and word not in stop_words]\n",
    "\n",
    "def lemmatize(words):\n",
    "    '''\n",
    "    Converts a word to its root form, a lemma\n",
    "    '''\n",
    "    return [lemmatizer.lemmatize(word) for word in words]\n",
    "\n",
    "def process(df, word_list, by_article_list):\n",
    "    '''\n",
    "    Executes cleansing and preprocessing for each article in the dataset\n",
    "    '''\n",
    "    for article in (df[\"text\"]):\n",
    "        words = tokenize(article)\n",
    "        words = to_lower_case(words)\n",
    "        words = remove_stopwords_punctuation(words)\n",
    "        words = lemmatize(words)\n",
    "\n",
    "        by_article_list.append(words)\n",
    "        for w in words:\n",
    "          word_list.append(w)"
   ]
  },
  {
   "cell_type": "code",
   "execution_count": 5,
   "id": "89c9a7e3",
   "metadata": {
    "execution": {
     "iopub.execute_input": "2022-04-04T10:42:14.638085Z",
     "iopub.status.busy": "2022-04-04T10:42:14.637382Z",
     "iopub.status.idle": "2022-04-04T10:48:52.786591Z",
     "shell.execute_reply": "2022-04-04T10:48:52.786091Z"
    },
    "papermill": {
     "duration": 398.175002,
     "end_time": "2022-04-04T10:48:52.786757",
     "exception": false,
     "start_time": "2022-04-04T10:42:14.611755",
     "status": "completed"
    },
    "tags": []
   },
   "outputs": [],
   "source": [
    "# Execute cleansing and preprocessing\n",
    "process(fake_news, words_in_f, words_in_each_article_f)\n",
    "process(real_news, words_in_t, words_in_each_article_t)"
   ]
  },
  {
   "cell_type": "markdown",
   "id": "ca8e2ecb",
   "metadata": {
    "papermill": {
     "duration": 0.020555,
     "end_time": "2022-04-04T10:48:52.828104",
     "exception": false,
     "start_time": "2022-04-04T10:48:52.807549",
     "status": "completed"
    },
    "tags": []
   },
   "source": [
    "**Data Split Into Training And Test Set**"
   ]
  },
  {
   "cell_type": "code",
   "execution_count": 6,
   "id": "e4f0e373",
   "metadata": {
    "execution": {
     "iopub.execute_input": "2022-04-04T10:48:52.885401Z",
     "iopub.status.busy": "2022-04-04T10:48:52.884576Z",
     "iopub.status.idle": "2022-04-04T10:50:03.509466Z",
     "shell.execute_reply": "2022-04-04T10:50:03.508966Z"
    },
    "papermill": {
     "duration": 70.661328,
     "end_time": "2022-04-04T10:50:03.509621",
     "exception": false,
     "start_time": "2022-04-04T10:48:52.848293",
     "status": "completed"
    },
    "tags": []
   },
   "outputs": [],
   "source": [
    "import sklearn.model_selection as ms\n",
    "from sklearn.feature_extraction.text import TfidfVectorizer\n",
    "\n",
    "# Get tokenized forms of all articles (true and fake) in one dataframe (X)\n",
    "tokenised_dataset = []\n",
    "for a in words_in_each_article_t:\n",
    "  tokenised_dataset.append(a)\n",
    "for b in words_in_each_article_f:\n",
    "  tokenised_dataset.append(b)\n",
    "\n",
    "# Get labels of all articles (true and fake) in one dataframe (y)\n",
    "y = pd.concat([real_news[\"label\"], fake_news[\"label\"]])\n",
    "y = [1 if x == \"fake\" else 0 for x in y] #1 and 0 for ease of tokenizing\n",
    "articles = pd.DataFrame(tokenised_dataset)\n",
    "labels = pd.DataFrame(y, columns=[\"label\"])\n",
    "\n",
    "# Save articles dataframe to .csv file\n",
    "articles.to_csv('articles.csv')\n",
    "\n",
    "# Save labels dataframe to .csv file\n",
    "labels.to_csv('labels.csv')\n",
    "\n",
    "# Split the data, 80% for the training set and 20% for the test set \n",
    "X_train, X_test, y_train, y_test = ms.train_test_split(tokenised_dataset, labels, test_size = 0.2, random_state=1)\n",
    "\n",
    "# Keep all words that appear in more than the 10% of the documents in the dataset.\n",
    "# Override the preprocessor in order to use the already cleansed words from the earlier phases.\n",
    "tfidf = TfidfVectorizer(min_df = 0.1, preprocessor = ' '.join)\n",
    "\n",
    "# Training Set\n",
    "# Sparse Document-Term Matrix\n",
    "response_train = tfidf.fit_transform(X_train) \n",
    "feature_names_train = tfidf.get_feature_names()\n",
    "\n",
    "# Dense Document-Term Matrix\n",
    "dense_train = response_train.todense() \n",
    "denselist_train = dense_train.tolist()\n",
    "df_train = pd.DataFrame(denselist_train, columns=feature_names_train)\n",
    "\n",
    "tfidf = TfidfVectorizer(preprocessor = ' '.join, vocabulary = feature_names_train)\n",
    "\n",
    "# Test Set\n",
    "# Sparse Document-Term Matrix\n",
    "response_test = tfidf.fit_transform(X_test)\n",
    "feature_names_test = tfidf.get_feature_names()\n",
    "\n",
    "# Dense Document-Term Matrix\n",
    "dense_test = response_test.todense() \n",
    "denselist_test = dense_test.tolist()\n",
    "df_test = pd.DataFrame(denselist_test, columns=feature_names_test)"
   ]
  },
  {
   "cell_type": "code",
   "execution_count": 7,
   "id": "89a1999f",
   "metadata": {
    "execution": {
     "iopub.execute_input": "2022-04-04T10:50:03.558395Z",
     "iopub.status.busy": "2022-04-04T10:50:03.556794Z",
     "iopub.status.idle": "2022-04-04T10:50:07.399769Z",
     "shell.execute_reply": "2022-04-04T10:50:07.399267Z"
    },
    "papermill": {
     "duration": 3.868948,
     "end_time": "2022-04-04T10:50:07.399912",
     "exception": false,
     "start_time": "2022-04-04T10:50:03.530964",
     "status": "completed"
    },
    "tags": []
   },
   "outputs": [],
   "source": [
    "# Final data to be used for training models\n",
    "df_train.to_csv('training_data.csv')\n",
    "\n",
    "# Final data to be used for testing models\n",
    "df_test.to_csv('testing_data.csv')\n",
    "\n",
    "y_train = pd.DataFrame(y_train, columns=[\"label\"])\n",
    "y_test = pd.DataFrame(y_test, columns=[\"label\"])\n",
    "\n",
    "# Final labels to be used for training models\n",
    "y_train.to_csv('train_labels.csv')\n",
    "\n",
    "# Final labels to be used for testing models\n",
    "y_test.to_csv('test_labels.csv')"
   ]
  },
  {
   "cell_type": "markdown",
   "id": "25b00026",
   "metadata": {
    "papermill": {
     "duration": 0.020408,
     "end_time": "2022-04-04T10:50:07.441282",
     "exception": false,
     "start_time": "2022-04-04T10:50:07.420874",
     "status": "completed"
    },
    "tags": []
   },
   "source": [
    "# **Data Mining Phase I: *Detecting Fake News***"
   ]
  },
  {
   "cell_type": "code",
   "execution_count": 8,
   "id": "ab1b4e0c",
   "metadata": {
    "execution": {
     "iopub.execute_input": "2022-04-04T10:50:07.487285Z",
     "iopub.status.busy": "2022-04-04T10:50:07.486477Z",
     "iopub.status.idle": "2022-04-04T10:50:07.488468Z",
     "shell.execute_reply": "2022-04-04T10:50:07.488904Z"
    },
    "papermill": {
     "duration": 0.02731,
     "end_time": "2022-04-04T10:50:07.489026",
     "exception": false,
     "start_time": "2022-04-04T10:50:07.461716",
     "status": "completed"
    },
    "tags": []
   },
   "outputs": [],
   "source": [
    "# import the required libraries\n",
    "import pandas as pd\n",
    "import numpy as np\n",
    "import seaborn as sns\n",
    "import matplotlib.pyplot as plt\n",
    "import nltk\n",
    "import sklearn\n",
    "from sklearn import metrics\n",
    "from sklearn.metrics import mean_squared_error\n",
    "import os"
   ]
  },
  {
   "cell_type": "code",
   "execution_count": 9,
   "id": "555a358f",
   "metadata": {
    "execution": {
     "iopub.execute_input": "2022-04-04T10:50:07.535657Z",
     "iopub.status.busy": "2022-04-04T10:50:07.534301Z",
     "iopub.status.idle": "2022-04-04T10:50:08.554571Z",
     "shell.execute_reply": "2022-04-04T10:50:08.555079Z"
    },
    "papermill": {
     "duration": 1.045683,
     "end_time": "2022-04-04T10:50:08.555232",
     "exception": false,
     "start_time": "2022-04-04T10:50:07.509549",
     "status": "completed"
    },
    "tags": []
   },
   "outputs": [
    {
     "name": "stdout",
     "output_type": "stream",
     "text": [
      "\n",
      "Dataset Sizes:\n",
      "Fake News: (23481, 6)\n",
      "Real News: (21415, 6)\n"
     ]
    }
   ],
   "source": [
    "# load the preprocessed data for classification\n",
    "# x_train = pd.read_csv('../input/fakereal-news-dataset-after-preprocessing/training_data.csv')\n",
    "# x_test = pd.read_csv('../input/fakereal-news-dataset-after-preprocessing/testing_data.csv')\n",
    "# y_train = pd.read_csv('../input/fakereal-news-dataset-after-preprocessing/train_labels.csv')\n",
    "# y_test = pd.read_csv('../input/fakereal-news-dataset-after-preprocessing/test_labels.csv')\n",
    "\n",
    "x_train = df_train\n",
    "x_test = df_test\n",
    "\n",
    "fake = pd.read_csv('./fakeForModeling.csv')\n",
    "true = pd.read_csv('./trueForModeling.csv')\n",
    "\n",
    "# print dataset sizes\n",
    "print(\"\\nDataset Sizes:\")\n",
    "print (f\"Fake News: {fake.shape}\")\n",
    "print (f\"Real News: {true.shape}\")"
   ]
  },
  {
   "cell_type": "code",
   "execution_count": 10,
   "id": "14afe112",
   "metadata": {
    "execution": {
     "iopub.execute_input": "2022-04-04T10:50:08.605217Z",
     "iopub.status.busy": "2022-04-04T10:50:08.604368Z",
     "iopub.status.idle": "2022-04-04T10:50:08.607770Z",
     "shell.execute_reply": "2022-04-04T10:50:08.607332Z"
    },
    "papermill": {
     "duration": 0.029295,
     "end_time": "2022-04-04T10:50:08.607879",
     "exception": false,
     "start_time": "2022-04-04T10:50:08.578584",
     "status": "completed"
    },
    "tags": []
   },
   "outputs": [],
   "source": [
    "# Saving Models Utilities\n",
    "import pickle\n",
    "\n",
    "def save_model(model, filename_with_ext):\n",
    "    '''\n",
    "    Saves a machine learning model produced using sci-kit learn in a .pkl file.\n",
    "    '''  \n",
    "    with open(filename_with_ext, 'wb') as file:  \n",
    "        pickle.dump(model, file)\n",
    "    print(\"\\nThe model was saved successfully.\")"
   ]
  },
  {
   "cell_type": "markdown",
   "id": "0794fec3",
   "metadata": {
    "papermill": {
     "duration": 0.020908,
     "end_time": "2022-04-04T10:50:08.649886",
     "exception": false,
     "start_time": "2022-04-04T10:50:08.628978",
     "status": "completed"
    },
    "tags": []
   },
   "source": [
    "**Naive Bayes**"
   ]
  },
  {
   "cell_type": "code",
   "execution_count": 11,
   "id": "2c528f1d",
   "metadata": {
    "execution": {
     "iopub.execute_input": "2022-04-04T10:50:08.704903Z",
     "iopub.status.busy": "2022-04-04T10:50:08.699196Z",
     "iopub.status.idle": "2022-04-04T10:50:09.255586Z",
     "shell.execute_reply": "2022-04-04T10:50:09.255172Z"
    },
    "papermill": {
     "duration": 0.584671,
     "end_time": "2022-04-04T10:50:09.255738",
     "exception": false,
     "start_time": "2022-04-04T10:50:08.671067",
     "status": "completed"
    },
    "tags": []
   },
   "outputs": [
    {
     "name": "stdout",
     "output_type": "stream",
     "text": [
      "CPU times: user 22 ms, sys: 1.01 ms, total: 23 ms\n",
      "Wall time: 20.6 ms\n",
      "\n",
      "Accuracy is: 0.8249443207126949\n",
      "Mean Squared Error is: 0.41839655745154636\n",
      "\n",
      "Naive Bayes Confusion Matrix: \n",
      "\n"
     ]
    },
    {
     "data": {
      "image/png": "[encoded data removed]",
      "text/plain": [
       "<Figure size 432x288 with 2 Axes>"
      ]
     },
     "metadata": {
      "needs_background": "light"
     },
     "output_type": "display_data"
    },
    {
     "name": "stdout",
     "output_type": "stream",
     "text": [
      "\n",
      "Naive Bayes Classification Report: \n",
      "\n",
      "              precision    recall  f1-score   support\n",
      "\n",
      "           0       0.83      0.81      0.82      4315\n",
      "           1       0.82      0.84      0.83      4665\n",
      "\n",
      "    accuracy                           0.82      8980\n",
      "   macro avg       0.83      0.82      0.82      8980\n",
      "weighted avg       0.82      0.82      0.82      8980\n",
      "\n",
      "\n",
      "The model was saved successfully.\n",
      "\n",
      "Naive Bayes AUC Score:  0.8948953959305944\n",
      "\n",
      "Receiver Operating Characteristic (ROC) Curve: \n",
      "\n"
     ]
    },
    {
     "data": {
      "text/plain": [
       "<sklearn.metrics._plot.roc_curve.RocCurveDisplay at 0x7f496f2cf510>"
      ]
     },
     "execution_count": 11,
     "metadata": {},
     "output_type": "execute_result"
    },
    {
     "data": {
      "image/png": "[encoded data removed]",
      "text/plain": [
       "<Figure size 432x288 with 1 Axes>"
      ]
     },
     "metadata": {
      "needs_background": "light"
     },
     "output_type": "display_data"
    }
   ],
   "source": [
    "from nltk import NaiveBayesClassifier\n",
    "from sklearn.naive_bayes import MultinomialNB\n",
    "\n",
    "# Load classifier\n",
    "nb = MultinomialNB()# one of the two classic naive Bayes variants used in text classification\n",
    "\n",
    "# Train classifier\n",
    "%time nb.fit(x_train, np.ravel(y_train))\n",
    "\n",
    "# Test classifier\n",
    "y_pred_class = nb.predict(x_test)\n",
    "\n",
    "# Calculate perfomance metrics\n",
    "print(\"\\nAccuracy is:\", metrics.accuracy_score(y_test, y_pred_class))\n",
    "print(\"Mean Squared Error is:\", np.sqrt(mean_squared_error(y_test, y_pred_class)))\n",
    "\n",
    "# Display confusion matrix\n",
    "nb_cm = metrics.confusion_matrix(y_test, y_pred_class)\n",
    "print(\"\\nNaive Bayes Confusion Matrix: \\n\")\n",
    "labels =  np.array([[nb_cm[0,0],nb_cm[0,1]],[nb_cm[1,0],nb_cm[1,1]]])\n",
    "sns.heatmap(nb_cm, annot=labels, fmt = '')\n",
    "plt.show()\n",
    "\n",
    "# Display classification report\n",
    "print(\"\\nNaive Bayes Classification Report: \\n\")\n",
    "print(metrics.classification_report(y_test, y_pred_class))\n",
    "\n",
    "# Save Model\n",
    "save_model(nb, \"naive_bayes.pkl\")\n",
    "\n",
    "# Calculate predicted probabilities for test data \n",
    "y_pred_prob_nb = nb.predict_proba(x_test)[:, 1]\n",
    "\n",
    "# Calculate AUC Score\n",
    "print(\"\\nNaive Bayes AUC Score: \", metrics.roc_auc_score(y_test, y_pred_prob_nb))\n",
    "\n",
    "# Plot ROC curve\n",
    "print(\"\\nReceiver Operating Characteristic (ROC) Curve: \\n\")\n",
    "metrics.plot_roc_curve(nb, x_test, y_test)"
   ]
  },
  {
   "cell_type": "code",
   "execution_count": 12,
   "id": "8d5c167c",
   "metadata": {
    "execution": {
     "iopub.execute_input": "2022-04-04T10:50:09.310700Z",
     "iopub.status.busy": "2022-04-04T10:50:09.309898Z",
     "iopub.status.idle": "2022-04-04T10:50:09.327419Z",
     "shell.execute_reply": "2022-04-04T10:50:09.328006Z"
    },
    "papermill": {
     "duration": 0.048182,
     "end_time": "2022-04-04T10:50:09.328180",
     "exception": false,
     "start_time": "2022-04-04T10:50:09.279998",
     "status": "completed"
    },
    "tags": []
   },
   "outputs": [
    {
     "name": "stdout",
     "output_type": "stream",
     "text": [
      "Top 10 most frequently occuring words in the data by : \n",
      "\n"
     ]
    },
    {
     "data": {
      "text/html": [
       "<div>\n",
       "<style scoped>\n",
       "    .dataframe tbody tr th:only-of-type {\n",
       "        vertical-align: middle;\n",
       "    }\n",
       "\n",
       "    .dataframe tbody tr th {\n",
       "        vertical-align: top;\n",
       "    }\n",
       "\n",
       "    .dataframe thead th {\n",
       "        text-align: right;\n",
       "    }\n",
       "</style>\n",
       "<table border=\"1\" class=\"dataframe\">\n",
       "  <thead>\n",
       "    <tr style=\"text-align: right;\">\n",
       "      <th></th>\n",
       "      <th>true</th>\n",
       "      <th>fake</th>\n",
       "      <th>fake/true ratio</th>\n",
       "    </tr>\n",
       "    <tr>\n",
       "      <th>token</th>\n",
       "      <th></th>\n",
       "      <th></th>\n",
       "      <th></th>\n",
       "    </tr>\n",
       "  </thead>\n",
       "  <tbody>\n",
       "    <tr>\n",
       "      <th>video</th>\n",
       "      <td>0.005882</td>\n",
       "      <td>0.053897</td>\n",
       "      <td>9.163735</td>\n",
       "    </tr>\n",
       "    <tr>\n",
       "      <th>hillary</th>\n",
       "      <td>0.010566</td>\n",
       "      <td>0.060571</td>\n",
       "      <td>5.732512</td>\n",
       "    </tr>\n",
       "    <tr>\n",
       "      <th>story</th>\n",
       "      <td>0.006141</td>\n",
       "      <td>0.030931</td>\n",
       "      <td>5.037121</td>\n",
       "    </tr>\n",
       "    <tr>\n",
       "      <th>america</th>\n",
       "      <td>0.010149</td>\n",
       "      <td>0.049432</td>\n",
       "      <td>4.870788</td>\n",
       "    </tr>\n",
       "    <tr>\n",
       "      <th>life</th>\n",
       "      <td>0.010415</td>\n",
       "      <td>0.035045</td>\n",
       "      <td>3.364871</td>\n",
       "    </tr>\n",
       "    <tr>\n",
       "      <th>woman</th>\n",
       "      <td>0.016352</td>\n",
       "      <td>0.054987</td>\n",
       "      <td>3.362762</td>\n",
       "    </tr>\n",
       "    <tr>\n",
       "      <th>american</th>\n",
       "      <td>0.024181</td>\n",
       "      <td>0.059569</td>\n",
       "      <td>2.463421</td>\n",
       "    </tr>\n",
       "    <tr>\n",
       "      <th>clinton</th>\n",
       "      <td>0.029581</td>\n",
       "      <td>0.069832</td>\n",
       "      <td>2.360716</td>\n",
       "    </tr>\n",
       "    <tr>\n",
       "      <th>matter</th>\n",
       "      <td>0.010605</td>\n",
       "      <td>0.024365</td>\n",
       "      <td>2.297606</td>\n",
       "    </tr>\n",
       "    <tr>\n",
       "      <th>supporter</th>\n",
       "      <td>0.012239</td>\n",
       "      <td>0.026754</td>\n",
       "      <td>2.186028</td>\n",
       "    </tr>\n",
       "  </tbody>\n",
       "</table>\n",
       "</div>"
      ],
      "text/plain": [
       "               true      fake  fake/true ratio\n",
       "token                                         \n",
       "video      0.005882  0.053897         9.163735\n",
       "hillary    0.010566  0.060571         5.732512\n",
       "story      0.006141  0.030931         5.037121\n",
       "america    0.010149  0.049432         4.870788\n",
       "life       0.010415  0.035045         3.364871\n",
       "woman      0.016352  0.054987         3.362762\n",
       "american   0.024181  0.059569         2.463421\n",
       "clinton    0.029581  0.069832         2.360716\n",
       "matter     0.010605  0.024365         2.297606\n",
       "supporter  0.012239  0.026754         2.186028"
      ]
     },
     "execution_count": 12,
     "metadata": {},
     "output_type": "execute_result"
    }
   ],
   "source": [
    "#Number of times token appears in each True article\n",
    "true_token = nb.feature_count_[0, :]\n",
    "\n",
    "#Number of times token appears in each Fake article\n",
    "fake_token = nb.feature_count_[1, :]\n",
    "tokens = pd.DataFrame({'token':x_train.columns, 'true':true_token, 'fake':fake_token}).set_index('token')\n",
    "\n",
    "# add 1 to true and fake counts to avoid dividing by 0\n",
    "tokens['true'] = tokens.true + 1\n",
    "tokens['fake'] = tokens.fake + 1\n",
    "# convert the true and fake counts into frequencies\n",
    "tokens['true'] = tokens.true / nb.class_count_[0]\n",
    "tokens['fake'] = tokens.fake / nb.class_count_[1]\n",
    "# calculate the ratio of fake to true for each token\n",
    "tokens['fake/true ratio'] = tokens.fake / tokens.true\n",
    "print(\"Top 10 most frequently occuring words in the data by : \\n\")\n",
    "tokens.sort_values('fake/true ratio', ascending=False).head(10)"
   ]
  },
  {
   "cell_type": "markdown",
   "id": "51010a72",
   "metadata": {
    "papermill": {
     "duration": 0.024405,
     "end_time": "2022-04-04T10:50:09.377565",
     "exception": false,
     "start_time": "2022-04-04T10:50:09.353160",
     "status": "completed"
    },
    "tags": []
   },
   "source": [
    "**Support Vector Machines**"
   ]
  },
  {
   "cell_type": "code",
   "execution_count": 13,
   "id": "34aecb63",
   "metadata": {
    "execution": {
     "iopub.execute_input": "2022-04-04T10:50:09.436921Z",
     "iopub.status.busy": "2022-04-04T10:50:09.435937Z",
     "iopub.status.idle": "2022-04-04T10:51:51.389931Z",
     "shell.execute_reply": "2022-04-04T10:51:51.389232Z"
    },
    "papermill": {
     "duration": 101.987838,
     "end_time": "2022-04-04T10:51:51.390068",
     "exception": false,
     "start_time": "2022-04-04T10:50:09.402230",
     "status": "completed"
    },
    "tags": []
   },
   "outputs": [
    {
     "name": "stdout",
     "output_type": "stream",
     "text": [
      "Accuracy is: 0.8570155902004455\n",
      "Mean Squared Error is: 0.37813279386950105\n",
      "\n",
      "Support Vector Machines Confusion Matrix: \n",
      "\n"
     ]
    },
    {
     "data": {
      "image/png": "[encoded data removed]",
      "text/plain": [
       "<Figure size 432x288 with 2 Axes>"
      ]
     },
     "metadata": {
      "needs_background": "light"
     },
     "output_type": "display_data"
    },
    {
     "name": "stdout",
     "output_type": "stream",
     "text": [
      "\n",
      "Support Vector Machines Classification Report: \n",
      "\n",
      "              precision    recall  f1-score   support\n",
      "\n",
      "           0       0.85      0.86      0.85      4315\n",
      "           1       0.87      0.85      0.86      4665\n",
      "\n",
      "    accuracy                           0.86      8980\n",
      "   macro avg       0.86      0.86      0.86      8980\n",
      "weighted avg       0.86      0.86      0.86      8980\n",
      "\n",
      "\n",
      "The model was saved successfully.\n",
      "\n",
      "Support Vector Machines AUC Score:  0.8571110274858138\n",
      "\n",
      "Receiver Operating Characteristic (ROC) Curve: \n",
      "\n"
     ]
    },
    {
     "data": {
      "text/plain": [
       "<sklearn.metrics._plot.roc_curve.RocCurveDisplay at 0x7f495b4b8b50>"
      ]
     },
     "execution_count": 13,
     "metadata": {},
     "output_type": "execute_result"
    },
    {
     "data": {
      "image/png": "[encoded data removed]",
      "text/plain": [
       "<Figure size 432x288 with 1 Axes>"
      ]
     },
     "metadata": {
      "needs_background": "light"
     },
     "output_type": "display_data"
    }
   ],
   "source": [
    "from sklearn.svm import SVC\n",
    "\n",
    "# Load classifier\n",
    "svc = SVC(kernel='linear', random_state=1) \n",
    "\n",
    "# Train classifier\n",
    "svc.fit(x_train, np.ravel(y_train))\n",
    "\n",
    "# Test classifier\n",
    "y_pred_svm = svc.predict(x_test)\n",
    "\n",
    "# Calculate performance metrics\n",
    "print(\"Accuracy is:\", metrics.accuracy_score(y_test, y_pred_svm))\n",
    "print(\"Mean Squared Error is:\", np.sqrt(mean_squared_error(y_test, y_pred_svm)))\n",
    "\n",
    "# Display confusion matrix\n",
    "svm_cm = metrics.confusion_matrix(y_test, y_pred_svm)\n",
    "print(\"\\nSupport Vector Machines Confusion Matrix: \\n\")\n",
    "labels =  np.array([[svm_cm[0,0],svm_cm[0,1]],[svm_cm[1,0],svm_cm[1,1]]])\n",
    "sns.heatmap(svm_cm, annot=labels, fmt = '')\n",
    "plt.show()\n",
    "\n",
    "# Display classification report\n",
    "print(\"\\nSupport Vector Machines Classification Report: \\n\")\n",
    "print(metrics.classification_report(y_test, y_pred_svm))\n",
    "\n",
    "# Save Model\n",
    "save_model(svc, \"support_vector_machines.pkl\")\n",
    "\n",
    "# Calculate AUC Score\n",
    "print (\"\\nSupport Vector Machines AUC Score: \", metrics.roc_auc_score(y_test, y_pred_svm))\n",
    "\n",
    "# Plot ROC curve\n",
    "print(\"\\nReceiver Operating Characteristic (ROC) Curve: \\n\")\n",
    "metrics.plot_roc_curve(svc, x_test, y_test)\n"
   ]
  },
  {
   "cell_type": "markdown",
   "id": "8c354438",
   "metadata": {
    "papermill": {
     "duration": 0.027366,
     "end_time": "2022-04-04T10:51:51.445676",
     "exception": false,
     "start_time": "2022-04-04T10:51:51.418310",
     "status": "completed"
    },
    "tags": []
   },
   "source": [
    "**Random Forest**"
   ]
  },
  {
   "cell_type": "code",
   "execution_count": 14,
   "id": "036fefa7",
   "metadata": {
    "execution": {
     "iopub.execute_input": "2022-04-04T10:51:51.515210Z",
     "iopub.status.busy": "2022-04-04T10:51:51.514617Z",
     "iopub.status.idle": "2022-04-04T10:56:41.114376Z",
     "shell.execute_reply": "2022-04-04T10:56:41.114794Z"
    },
    "papermill": {
     "duration": 289.641635,
     "end_time": "2022-04-04T10:56:41.114964",
     "exception": false,
     "start_time": "2022-04-04T10:51:51.473329",
     "status": "completed"
    },
    "tags": []
   },
   "outputs": [
    {
     "name": "stdout",
     "output_type": "stream",
     "text": [
      "CPU times: user 39 µs, sys: 0 ns, total: 39 µs\n",
      "Wall time: 42.9 µs\n",
      "Accuracy: 0.921380846325167\n",
      "Mean Squared Error: 0.2803910727445383\n",
      "\n",
      "Random Forest Confusion Matrix: \n",
      "\n"
     ]
    },
    {
     "data": {
      "image/png": "[encoded data removed]",
      "text/plain": [
       "<Figure size 432x288 with 2 Axes>"
      ]
     },
     "metadata": {
      "needs_background": "light"
     },
     "output_type": "display_data"
    },
    {
     "name": "stdout",
     "output_type": "stream",
     "text": [
      "\n",
      "Random Forest Classification Report: \n",
      "\n",
      "              precision    recall  f1-score   support\n",
      "\n",
      "           0       0.93      0.90      0.92      4315\n",
      "           1       0.91      0.94      0.93      4665\n",
      "\n",
      "    accuracy                           0.92      8980\n",
      "   macro avg       0.92      0.92      0.92      8980\n",
      "weighted avg       0.92      0.92      0.92      8980\n",
      "\n",
      "\n",
      "The model was saved successfully.\n",
      "\n",
      "Random Forest AUC Score:  0.9759400580492041\n",
      "\n",
      "Receiver Operating Characteristic (ROC) Curve: \n",
      "\n"
     ]
    },
    {
     "data": {
      "text/plain": [
       "<sklearn.metrics._plot.roc_curve.RocCurveDisplay at 0x7f495b3a8750>"
      ]
     },
     "execution_count": 14,
     "metadata": {},
     "output_type": "execute_result"
    },
    {
     "data": {
      "image/png": "[encoded data removed]",
      "text/plain": [
       "<Figure size 432x288 with 1 Axes>"
      ]
     },
     "metadata": {
      "needs_background": "light"
     },
     "output_type": "display_data"
    }
   ],
   "source": [
    "from sklearn.ensemble import RandomForestClassifier\n",
    "from sklearn.model_selection import GridSearchCV\n",
    "\n",
    "# Load classifier\n",
    "rf = RandomForestClassifier(random_state = 1)\n",
    "\n",
    "# Configure its parameters\n",
    "param_grid = {\n",
    "    'n_estimators': [200],\n",
    "    'max_depth': [50, 60, 70]\n",
    "    }\n",
    "\n",
    "# Train classifier\n",
    "%time grid_search_rf = GridSearchCV(estimator = rf, param_grid = param_grid, cv = 5)\n",
    "grid_search_rf.fit(x_train, np.ravel(y_train))\n",
    "grid_search_rf.best_params_\n",
    "\n",
    "# Test classifier\n",
    "y_pred_rf = grid_search_rf.predict(x_test)\n",
    "\n",
    "# Calculate perfomance metrics\n",
    "print(\"Accuracy:\", metrics.accuracy_score(y_test, y_pred_rf))\n",
    "print(\"Mean Squared Error:\", np.sqrt(mean_squared_error(y_test, y_pred_rf)))\n",
    "\n",
    "# Display confusion matrix\n",
    "print(\"\\nRandom Forest Confusion Matrix: \\n\")\n",
    "rf_cm = metrics.confusion_matrix(y_test, y_pred_rf)\n",
    "labels =  np.array([[rf_cm[0,0],rf_cm[0,1]],[rf_cm[1,0],rf_cm[1,1]]])\n",
    "sns.heatmap(rf_cm, annot=labels, fmt = '')\n",
    "plt.show()\n",
    "\n",
    "# Display classification report\n",
    "print(\"\\nRandom Forest Classification Report: \\n\")\n",
    "print(metrics.classification_report(y_test, y_pred_rf))\n",
    "\n",
    "# Calculate predicted probabilities for test data \n",
    "y_pred_prob_rf = grid_search_rf.predict_proba(x_test)[:, 1]\n",
    "\n",
    "# Save Model\n",
    "save_model(rf, \"random_forests.pkl\")\n",
    "\n",
    "# Calculate AUC Score\n",
    "print(\"\\nRandom Forest AUC Score: \", metrics.roc_auc_score(y_test, y_pred_prob_rf))\n",
    "\n",
    "# Plot ROC curve\n",
    "print(\"\\nReceiver Operating Characteristic (ROC) Curve: \\n\")\n",
    "metrics.plot_roc_curve(grid_search_rf, x_test, y_test)"
   ]
  },
  {
   "cell_type": "code",
   "execution_count": 15,
   "id": "8a45fe16",
   "metadata": {
    "execution": {
     "iopub.execute_input": "2022-04-04T10:56:41.179655Z",
     "iopub.status.busy": "2022-04-04T10:56:41.179069Z",
     "iopub.status.idle": "2022-04-04T10:56:41.424186Z",
     "shell.execute_reply": "2022-04-04T10:56:41.424560Z"
    },
    "papermill": {
     "duration": 0.279672,
     "end_time": "2022-04-04T10:56:41.424739",
     "exception": false,
     "start_time": "2022-04-04T10:56:41.145067",
     "status": "completed"
    },
    "tags": []
   },
   "outputs": [
    {
     "name": "stdout",
     "output_type": "stream",
     "text": [
      "\n",
      "Display the top 10 most important features: \n",
      "\n"
     ]
    },
    {
     "data": {
      "text/plain": [
       "<AxesSubplot:>"
      ]
     },
     "execution_count": 15,
     "metadata": {},
     "output_type": "execute_result"
    },
    {
     "data": {
      "image/png": "[encoded data removed]",
      "text/plain": [
       "<Figure size 432x288 with 1 Axes>"
      ]
     },
     "metadata": {
      "needs_background": "light"
     },
     "output_type": "display_data"
    }
   ],
   "source": [
    "# Calculate and display feature importance\n",
    "print(\"\\nDisplay the top 10 most important features: \\n\")\n",
    "feature_importances = pd.Series(grid_search_rf.best_estimator_.feature_importances_, index=x_train.columns)\n",
    "feature_importances.nlargest(10).plot(kind='barh')"
   ]
  },
  {
   "cell_type": "markdown",
   "id": "e526f29b",
   "metadata": {
    "papermill": {
     "duration": 0.031016,
     "end_time": "2022-04-04T10:56:41.486577",
     "exception": false,
     "start_time": "2022-04-04T10:56:41.455561",
     "status": "completed"
    },
    "tags": []
   },
   "source": [
    "**Binomial Logistic Regression**"
   ]
  },
  {
   "cell_type": "code",
   "execution_count": 16,
   "id": "0e8bc685",
   "metadata": {
    "execution": {
     "iopub.execute_input": "2022-04-04T10:56:41.557705Z",
     "iopub.status.busy": "2022-04-04T10:56:41.555133Z",
     "iopub.status.idle": "2022-04-04T10:56:42.373215Z",
     "shell.execute_reply": "2022-04-04T10:56:42.374108Z"
    },
    "papermill": {
     "duration": 0.857035,
     "end_time": "2022-04-04T10:56:42.374280",
     "exception": false,
     "start_time": "2022-04-04T10:56:41.517245",
     "status": "completed"
    },
    "tags": []
   },
   "outputs": [
    {
     "name": "stdout",
     "output_type": "stream",
     "text": [
      "Accuracy is:  0.8557906458797327\n",
      "Mean Squared Error is: 0.3797490673066456\n",
      "\n",
      "Binomial Logistic Regression - Confusion Matrix: \n",
      "\n"
     ]
    },
    {
     "data": {
      "image/png": "[encoded data removed]",
      "text/plain": [
       "<Figure size 432x288 with 2 Axes>"
      ]
     },
     "metadata": {
      "needs_background": "light"
     },
     "output_type": "display_data"
    },
    {
     "name": "stdout",
     "output_type": "stream",
     "text": [
      "\n",
      "Binomial Logistic Regression - Classification Report: \n",
      "              precision    recall  f1-score   support\n",
      "\n",
      "           0       0.85      0.85      0.85      4315\n",
      "           1       0.86      0.86      0.86      4665\n",
      "\n",
      "    accuracy                           0.86      8980\n",
      "   macro avg       0.86      0.86      0.86      8980\n",
      "weighted avg       0.86      0.86      0.86      8980\n",
      "\n",
      "\n",
      "The model was saved successfully.\n",
      "\n",
      "Binomial Logistic Regression - AUC Score:  0.9271444237865121\n",
      "\n",
      "Receiver Operating Characteristic (ROC) Curve: \n",
      "\n"
     ]
    },
    {
     "data": {
      "text/plain": [
       "<sklearn.metrics._plot.roc_curve.RocCurveDisplay at 0x7f495b2ab5d0>"
      ]
     },
     "execution_count": 16,
     "metadata": {},
     "output_type": "execute_result"
    },
    {
     "data": {
      "image/png": "[encoded data removed]",
      "text/plain": [
       "<Figure size 432x288 with 1 Axes>"
      ]
     },
     "metadata": {
      "needs_background": "light"
     },
     "output_type": "display_data"
    }
   ],
   "source": [
    "from sklearn.linear_model import LogisticRegression\n",
    "\n",
    "# Load classifier\n",
    "lr = LogisticRegression()\n",
    "\n",
    "# Train classifier\n",
    "lr.fit(x_train, np.ravel(y_train))\n",
    "\n",
    "# Test classifier\n",
    "y_pred_lr = lr.predict(x_test)\n",
    "\n",
    "# Calculate performance metrics\n",
    "print (\"Accuracy is: \", metrics.accuracy_score(y_test, y_pred_lr))\n",
    "print(\"Mean Squared Error is:\", np.sqrt(mean_squared_error(y_test, y_pred_lr)))\n",
    "\n",
    "# Display confusion matrix\n",
    "lr_cm = metrics.confusion_matrix(y_test, y_pred_lr)\n",
    "print(\"\\nBinomial Logistic Regression - Confusion Matrix: \\n\")\n",
    "labels =  np.array([[lr_cm[0,0],lr_cm[0,1]],[lr_cm[1,0],lr_cm[1,1]]])\n",
    "sns.heatmap(lr_cm, annot=labels, fmt = '')\n",
    "plt.show()\n",
    "\n",
    "# Display classification report\n",
    "print(\"\\nBinomial Logistic Regression - Classification Report: \")\n",
    "print(metrics.classification_report(y_test, y_pred_lr))\n",
    "\n",
    "# Save Binomial Logistic Regression Model\n",
    "save_model(lr, \"binomial_logistic_regression.pkl\")\n",
    "\n",
    "# Calculate predicted probabilities for test data \n",
    "y_pred_prob_lr = lr.predict_proba(x_test)[:, 1]\n",
    "\n",
    "# Calculate AUC Score \n",
    "print(\"\\nBinomial Logistic Regression - AUC Score: \", metrics.roc_auc_score(y_test, y_pred_prob_lr))\n",
    "\n",
    "# Plot ROC curve\n",
    "print(\"\\nReceiver Operating Characteristic (ROC) Curve: \\n\")\n",
    "metrics.plot_roc_curve(lr, x_test, y_test)"
   ]
  },
  {
   "cell_type": "markdown",
   "id": "1a8f80a1",
   "metadata": {
    "papermill": {
     "duration": 0.032978,
     "end_time": "2022-04-04T10:56:42.441413",
     "exception": false,
     "start_time": "2022-04-04T10:56:42.408435",
     "status": "completed"
    },
    "tags": []
   },
   "source": [
    "**Decision Trees: CART**"
   ]
  },
  {
   "cell_type": "code",
   "execution_count": 17,
   "id": "5b2bb967",
   "metadata": {
    "execution": {
     "iopub.execute_input": "2022-04-04T10:56:42.518020Z",
     "iopub.status.busy": "2022-04-04T10:56:42.517052Z",
     "iopub.status.idle": "2022-04-04T10:56:45.036132Z",
     "shell.execute_reply": "2022-04-04T10:56:45.036834Z"
    },
    "papermill": {
     "duration": 2.562566,
     "end_time": "2022-04-04T10:56:45.036990",
     "exception": false,
     "start_time": "2022-04-04T10:56:42.474424",
     "status": "completed"
    },
    "tags": []
   },
   "outputs": [
    {
     "name": "stdout",
     "output_type": "stream",
     "text": [
      "Accuracy: 0.8479955456570156\n",
      "\n",
      "Mean Squared Error: 0.38987748632485103\n",
      "\n",
      "\n",
      "Decision Tree (CART) Confusion Matrix: \n",
      "\n"
     ]
    },
    {
     "data": {
      "image/png": "[encoded data removed]",
      "text/plain": [
       "<Figure size 432x288 with 2 Axes>"
      ]
     },
     "metadata": {
      "needs_background": "light"
     },
     "output_type": "display_data"
    },
    {
     "name": "stdout",
     "output_type": "stream",
     "text": [
      "\n",
      "Decision Tree (CART) Classification Report: \n",
      "\n",
      "              precision    recall  f1-score   support\n",
      "\n",
      "           0       0.86      0.82      0.84      4315\n",
      "           1       0.84      0.88      0.86      4665\n",
      "\n",
      "    accuracy                           0.85      8980\n",
      "   macro avg       0.85      0.85      0.85      8980\n",
      "weighted avg       0.85      0.85      0.85      8980\n",
      "\n",
      "\n",
      "The model was saved successfully.\n",
      "Decision Tree (CART) AUC Score: 0.8467601614051037\n",
      "\n",
      "Receiver Operating Characteristic (ROC) Curve: \n",
      "\n"
     ]
    },
    {
     "data": {
      "text/plain": [
       "<sklearn.metrics._plot.roc_curve.RocCurveDisplay at 0x7f495b072b10>"
      ]
     },
     "execution_count": 17,
     "metadata": {},
     "output_type": "execute_result"
    },
    {
     "data": {
      "image/png": "[encoded data removed]",
      "text/plain": [
       "<Figure size 432x288 with 1 Axes>"
      ]
     },
     "metadata": {
      "needs_background": "light"
     },
     "output_type": "display_data"
    }
   ],
   "source": [
    "from sklearn import tree\n",
    "\n",
    "# Load classifier\n",
    "decision_tree = tree.DecisionTreeClassifier(criterion='entropy', random_state=4) # for these parameters the model performed better than having the default values.\n",
    "\n",
    "# Train classifier\n",
    "decision_tree.fit(x_train, np.ravel(y_train))\n",
    "\n",
    "# Test the model\n",
    "y_pred_dt = decision_tree.predict(x_test)\n",
    "\n",
    "# Calculate performance metrics\n",
    "print(f\"Accuracy: {metrics.accuracy_score(y_test,y_pred_dt)}\\n\")\n",
    "print(f\"Mean Squared Error: {np.sqrt(mean_squared_error(y_test, y_pred_dt))}\\n\")\n",
    "\n",
    "# Display confusion matrix\n",
    "cart_cm = metrics.confusion_matrix(y_test,y_pred_dt)\n",
    "print(\"\\nDecision Tree (CART) Confusion Matrix: \\n\")\n",
    "labels =  np.array([[cart_cm[0,0],cart_cm[0,1]],[cart_cm[1,0],cart_cm[1,1]]])\n",
    "sns.heatmap(cart_cm, annot=labels, fmt = '')\n",
    "plt.show()\n",
    "\n",
    "# Display classification report\n",
    "print(\"\\nDecision Tree (CART) Classification Report: \\n\")\n",
    "print(metrics.classification_report(y_test,y_pred_dt))\n",
    "\n",
    "# Save decision tree CART model\n",
    "save_model(decision_tree, \"decision_tree_cart.pkl\")\n",
    "\n",
    "# Calculate AUC Score\n",
    "print(f\"Decision Tree (CART) AUC Score: {metrics.roc_auc_score(y_test, y_pred_dt)}\")\n",
    "\n",
    "# Plot ROC curve\n",
    "print(\"\\nReceiver Operating Characteristic (ROC) Curve: \\n\")\n",
    "metrics.plot_roc_curve(decision_tree, x_test, y_test)"
   ]
  },
  {
   "cell_type": "markdown",
   "id": "57c9bc6f",
   "metadata": {
    "papermill": {
     "duration": 0.035672,
     "end_time": "2022-04-04T10:56:45.108038",
     "exception": false,
     "start_time": "2022-04-04T10:56:45.072366",
     "status": "completed"
    },
    "tags": []
   },
   "source": [
    "**k Nearest Neighbors**"
   ]
  },
  {
   "cell_type": "code",
   "execution_count": 18,
   "id": "5518d4eb",
   "metadata": {
    "execution": {
     "iopub.execute_input": "2022-04-04T10:56:45.187918Z",
     "iopub.status.busy": "2022-04-04T10:56:45.187337Z",
     "iopub.status.idle": "2022-04-04T10:59:36.316225Z",
     "shell.execute_reply": "2022-04-04T10:59:36.316601Z"
    },
    "papermill": {
     "duration": 171.17372,
     "end_time": "2022-04-04T10:59:36.316813",
     "exception": false,
     "start_time": "2022-04-04T10:56:45.143093",
     "status": "completed"
    },
    "tags": []
   },
   "outputs": [
    {
     "name": "stdout",
     "output_type": "stream",
     "text": [
      "Accuracy: 0.8815144766146993\n",
      "\n",
      "Mean Squared Error: 0.3442172618932709\n",
      "\n",
      "\n",
      "Confusion Matrix: \n",
      "\n"
     ]
    },
    {
     "data": {
      "image/png": "[encoded data removed]",
      "text/plain": [
       "<Figure size 432x288 with 2 Axes>"
      ]
     },
     "metadata": {
      "needs_background": "light"
     },
     "output_type": "display_data"
    },
    {
     "name": "stdout",
     "output_type": "stream",
     "text": [
      "\n",
      "Classification Report: \n",
      "\n",
      "              precision    recall  f1-score   support\n",
      "\n",
      "           0       0.89      0.86      0.87      4315\n",
      "           1       0.87      0.90      0.89      4665\n",
      "\n",
      "    accuracy                           0.88      8980\n",
      "   macro avg       0.88      0.88      0.88      8980\n",
      "weighted avg       0.88      0.88      0.88      8980\n",
      "\n",
      "\n",
      "The model was saved successfully.\n",
      "k Nearest Neighbors AUC Score: 0.8806474088370413\n",
      "\n",
      "Receiver Operating Characteristic (ROC) Curve: \n",
      "\n"
     ]
    },
    {
     "data": {
      "text/plain": [
       "<sklearn.metrics._plot.roc_curve.RocCurveDisplay at 0x7f495ada2a10>"
      ]
     },
     "execution_count": 18,
     "metadata": {},
     "output_type": "execute_result"
    },
    {
     "data": {
      "image/png": "[encoded data removed]",
      "text/plain": [
       "<Figure size 432x288 with 1 Axes>"
      ]
     },
     "metadata": {
      "needs_background": "light"
     },
     "output_type": "display_data"
    }
   ],
   "source": [
    "from sklearn.neighbors import KNeighborsClassifier\n",
    "\n",
    "# Load classifier\n",
    "n_neighbors = 8\n",
    "knn = KNeighborsClassifier(n_neighbors, weights='distance')\n",
    "\n",
    "# Train classifier\n",
    "knn.fit(x_train, np.ravel(y_train))\n",
    "\n",
    "# Test the model\n",
    "y_pred_knn = knn.predict(x_test)\n",
    "\n",
    "# Calculate performance metrics\n",
    "print(f\"Accuracy: {metrics.accuracy_score(y_test,y_pred_knn)}\\n\")\n",
    "print(f\"Mean Squared Error: {np.sqrt(mean_squared_error(y_test, y_pred_knn))}\\n\")\n",
    "\n",
    "# Display confusion matrix\n",
    "knn_cm = metrics.confusion_matrix(y_test,y_pred_knn)\n",
    "print(\"\\nConfusion Matrix: \\n\")\n",
    "labels =  np.array([[knn_cm[0,0],knn_cm[0,1]],[knn_cm[1,0],knn_cm[1,1]]])\n",
    "sns.heatmap(knn_cm, annot=labels, fmt = '')\n",
    "plt.show()\n",
    "\n",
    "# Display classification report\n",
    "print(\"\\nClassification Report: \\n\")\n",
    "print(metrics.classification_report(y_test,y_pred_knn))\n",
    "\n",
    "# Save kNN model\n",
    "save_model(knn, \"kNN.pkl\")\n",
    "\n",
    "# Calculate AUC Score\n",
    "print(f\"k Nearest Neighbors AUC Score: {metrics.roc_auc_score(y_test, y_pred_knn)}\")\n",
    "\n",
    "# Plot ROC curve\n",
    "print(\"\\nReceiver Operating Characteristic (ROC) Curve: \\n\")\n",
    "metrics.plot_roc_curve(knn, x_test, y_test)"
   ]
  },
  {
   "cell_type": "markdown",
   "id": "71f7b146",
   "metadata": {
    "papermill": {
     "duration": 0.037334,
     "end_time": "2022-04-04T10:59:36.392202",
     "exception": false,
     "start_time": "2022-04-04T10:59:36.354868",
     "status": "completed"
    },
    "tags": []
   },
   "source": [
    "**Passive Aggressive**"
   ]
  },
  {
   "cell_type": "code",
   "execution_count": 19,
   "id": "b2c656a4",
   "metadata": {
    "execution": {
     "iopub.execute_input": "2022-04-04T10:59:36.477914Z",
     "iopub.status.busy": "2022-04-04T10:59:36.477030Z",
     "iopub.status.idle": "2022-04-04T10:59:37.170321Z",
     "shell.execute_reply": "2022-04-04T10:59:37.170796Z"
    },
    "papermill": {
     "duration": 0.741002,
     "end_time": "2022-04-04T10:59:37.170965",
     "exception": false,
     "start_time": "2022-04-04T10:59:36.429963",
     "status": "completed"
    },
    "tags": []
   },
   "outputs": [
    {
     "name": "stdout",
     "output_type": "stream",
     "text": [
      "Accuracy: 0.7910913140311804\n",
      "\n",
      "Mean Squared Error: 0.4570652972703349\n",
      "\n",
      "\n",
      "Passive Aggressive Confusion Matrix: \n",
      "\n"
     ]
    },
    {
     "data": {
      "image/png": "[encoded data removed]",
      "text/plain": [
       "<Figure size 432x288 with 2 Axes>"
      ]
     },
     "metadata": {
      "needs_background": "light"
     },
     "output_type": "display_data"
    },
    {
     "name": "stdout",
     "output_type": "stream",
     "text": [
      "\n",
      "Passive Aggressive Classification Report: \n",
      "\n",
      "              precision    recall  f1-score   support\n",
      "\n",
      "           0       0.72      0.93      0.81      4315\n",
      "           1       0.91      0.66      0.77      4665\n",
      "\n",
      "    accuracy                           0.79      8980\n",
      "   macro avg       0.82      0.80      0.79      8980\n",
      "weighted avg       0.82      0.79      0.79      8980\n",
      "\n",
      "\n",
      "The model was saved successfully.\n",
      "\n",
      "Passive Aggressive AUC Score: 0.7964417849943924\n",
      "\n",
      "Receiver Operating Characteristic (ROC) Curve: \n",
      "\n"
     ]
    },
    {
     "data": {
      "text/plain": [
       "<sklearn.metrics._plot.roc_curve.RocCurveDisplay at 0x7f495acca1d0>"
      ]
     },
     "execution_count": 19,
     "metadata": {},
     "output_type": "execute_result"
    },
    {
     "data": {
      "image/png": "[encoded data removed]",
      "text/plain": [
       "<Figure size 432x288 with 1 Axes>"
      ]
     },
     "metadata": {
      "needs_background": "light"
     },
     "output_type": "display_data"
    }
   ],
   "source": [
    "from sklearn.linear_model import PassiveAggressiveClassifier\n",
    "\n",
    "# Load classifier\n",
    "pac=PassiveAggressiveClassifier(max_iter=50)\n",
    "\n",
    "# Train classifier\n",
    "pac.fit(x_train,np.ravel(y_train))\n",
    "\n",
    "# Test the model\n",
    "y_pred_pac=pac.predict(x_test)\n",
    "\n",
    "# Calculate performance metrics\n",
    "print(f\"Accuracy: {metrics.accuracy_score(y_test,y_pred_pac)}\\n\")\n",
    "print(f\"Mean Squared Error: {np.sqrt(mean_squared_error(y_test, y_pred_pac))}\\n\")\n",
    "\n",
    "# Display confusion matrix\n",
    "print(\"\\nPassive Aggressive Confusion Matrix: \\n\")\n",
    "pac_cm = metrics.confusion_matrix(y_test,y_pred_pac)\n",
    "labels =  np.array([[pac_cm[0,0],pac_cm[0,1]],[pac_cm[1,0],pac_cm[1,1]]])\n",
    "sns.heatmap(pac_cm, annot=labels, fmt = '')\n",
    "plt.show()\n",
    "\n",
    "# Display classification report\n",
    "print(\"\\nPassive Aggressive Classification Report: \\n\")\n",
    "print(metrics.classification_report(y_test,y_pred_pac))\n",
    "\n",
    "# Save model\n",
    "save_model(pac, \"pac.pkl\")\n",
    "\n",
    "# Calculate AUC Score\n",
    "print(f\"\\nPassive Aggressive AUC Score: {metrics.roc_auc_score(y_test, y_pred_pac)}\")\n",
    "\n",
    "# Plot ROC curve\n",
    "print(\"\\nReceiver Operating Characteristic (ROC) Curve: \\n\")\n",
    "metrics.plot_roc_curve(pac, x_test, y_test)"
   ]
  },
  {
   "cell_type": "markdown",
   "id": "dca9d76b",
   "metadata": {
    "papermill": {
     "duration": 0.040759,
     "end_time": "2022-04-04T10:59:37.252495",
     "exception": false,
     "start_time": "2022-04-04T10:59:37.211736",
     "status": "completed"
    },
    "tags": []
   },
   "source": [
    "**AdaBoost** \n",
    "\n",
    "Using the default base estimator which is the CART Decision Tree classification algorithm."
   ]
  },
  {
   "cell_type": "code",
   "execution_count": 20,
   "id": "445074f9",
   "metadata": {
    "execution": {
     "iopub.execute_input": "2022-04-04T10:59:37.342525Z",
     "iopub.status.busy": "2022-04-04T10:59:37.340417Z",
     "iopub.status.idle": "2022-04-04T11:01:17.852299Z",
     "shell.execute_reply": "2022-04-04T11:01:17.852872Z"
    },
    "papermill": {
     "duration": 100.560563,
     "end_time": "2022-04-04T11:01:17.853033",
     "exception": false,
     "start_time": "2022-04-04T10:59:37.292470",
     "status": "completed"
    },
    "tags": []
   },
   "outputs": [
    {
     "name": "stdout",
     "output_type": "stream",
     "text": [
      "Accuracy: 0.8776169265033408\n",
      "\n",
      "\n",
      "AdaBoost Confusion Matrix: \n",
      "\n"
     ]
    },
    {
     "data": {
      "image/png": "[encoded data removed]",
      "text/plain": [
       "<Figure size 432x288 with 2 Axes>"
      ]
     },
     "metadata": {
      "needs_background": "light"
     },
     "output_type": "display_data"
    },
    {
     "name": "stdout",
     "output_type": "stream",
     "text": [
      "\n",
      "AdaBoost Classification Report: \n",
      "\n",
      "              precision    recall  f1-score   support\n",
      "\n",
      "           0       0.87      0.88      0.87      4315\n",
      "           1       0.88      0.88      0.88      4665\n",
      "\n",
      "    accuracy                           0.88      8980\n",
      "   macro avg       0.88      0.88      0.88      8980\n",
      "weighted avg       0.88      0.88      0.88      8980\n",
      "\n",
      "\n",
      "The model was saved successfully.\n",
      "AdaBoost AUC Score: 0.8775654854386415\n",
      "\n",
      "Receiver Operating Characteristic (ROC) Curve: \n",
      "\n"
     ]
    },
    {
     "data": {
      "text/plain": [
       "<sklearn.metrics._plot.roc_curve.RocCurveDisplay at 0x7f495ab915d0>"
      ]
     },
     "execution_count": 20,
     "metadata": {},
     "output_type": "execute_result"
    },
    {
     "data": {
      "image/png": "[encoded data removed]",
      "text/plain": [
       "<Figure size 432x288 with 1 Axes>"
      ]
     },
     "metadata": {
      "needs_background": "light"
     },
     "output_type": "display_data"
    }
   ],
   "source": [
    "from sklearn.ensemble import AdaBoostClassifier\n",
    "\n",
    "# Load classifier\n",
    "adaboost = AdaBoostClassifier(n_estimators=850)\n",
    "\n",
    "# Train classifier\n",
    "adaboost.fit(x_train, np.ravel(y_train))\n",
    "\n",
    "# Test the model\n",
    "y_pred_ab = adaboost.predict(x_test)\n",
    "\n",
    "# Calculate performance metrics\n",
    "print(f\"Accuracy: {metrics.accuracy_score(y_test,y_pred_ab)}\\n\")\n",
    "\n",
    "# Display confusion matrix\n",
    "ab_cm = metrics.confusion_matrix(y_test,y_pred_ab)\n",
    "print(\"\\nAdaBoost Confusion Matrix: \\n\")\n",
    "labels =  np.array([[ab_cm[0,0],ab_cm[0,1]],[ab_cm[1,0],ab_cm[1,1]]])\n",
    "sns.heatmap(ab_cm, annot=labels, fmt = '')\n",
    "plt.show()\n",
    "\n",
    "# Display classification report\n",
    "print(\"\\nAdaBoost Classification Report: \\n\")\n",
    "print(metrics.classification_report(y_test,y_pred_ab))\n",
    "\n",
    "# Save model\n",
    "save_model(adaboost, \"adaboost.pkl\")\n",
    "\n",
    "# Calculate Decision Tree AUC Score\n",
    "print(f\"AdaBoost AUC Score: {metrics.roc_auc_score(y_test, y_pred_ab)}\")\n",
    "\n",
    "# Plot ROC curve\n",
    "print(\"\\nReceiver Operating Characteristic (ROC) Curve: \\n\")\n",
    "metrics.plot_roc_curve(adaboost, x_test, y_test)"
   ]
  },
  {
   "cell_type": "markdown",
   "id": "370e1a8e",
   "metadata": {
    "papermill": {
     "duration": 0.042449,
     "end_time": "2022-04-04T11:01:17.938223",
     "exception": false,
     "start_time": "2022-04-04T11:01:17.895774",
     "status": "completed"
    },
    "tags": []
   },
   "source": [
    "# **Data Mining Phase II: *Topic Modelling***"
   ]
  },
  {
   "cell_type": "markdown",
   "id": "6d31d64a",
   "metadata": {
    "papermill": {
     "duration": 0.042158,
     "end_time": "2022-04-04T11:01:18.022371",
     "exception": false,
     "start_time": "2022-04-04T11:01:17.980213",
     "status": "completed"
    },
    "tags": []
   },
   "source": [
    "**Latent Dirichlet Allocation (LDA)**"
   ]
  },
  {
   "cell_type": "code",
   "execution_count": 21,
   "id": "ad52c628",
   "metadata": {
    "execution": {
     "iopub.execute_input": "2022-04-04T11:01:18.114459Z",
     "iopub.status.busy": "2022-04-04T11:01:18.113864Z",
     "iopub.status.idle": "2022-04-04T11:01:18.221803Z",
     "shell.execute_reply": "2022-04-04T11:01:18.221309Z"
    },
    "papermill": {
     "duration": 0.156805,
     "end_time": "2022-04-04T11:01:18.221926",
     "exception": false,
     "start_time": "2022-04-04T11:01:18.065121",
     "status": "completed"
    },
    "tags": []
   },
   "outputs": [],
   "source": [
    "import gensim\n",
    "import gensim.corpora as corpora\n",
    "from pprint import pprint\n",
    "\n",
    "# Set number of topics to predict\n",
    "num_topics = 4\n",
    "\n",
    "def get_lda_corpus(dataset):\n",
    "    # Create Dictionary\n",
    "    id2word = corpora.Dictionary(dataset)\n",
    "    # Create Corpus\n",
    "    articles = dataset\n",
    "    # Term Document Frequency\n",
    "    corpus = [id2word.doc2bow(article) for article in articles]\n",
    "    # View\n",
    "    print(corpus[:1][0][:30])\n",
    "    return corpus, id2word\n",
    "\n",
    "def build_lda(corpus, id2word, num_topics):\n",
    "    # Build LDA model\n",
    "    lda_model = gensim.models.LdaMulticore(corpus=corpus,\n",
    "                                           id2word=id2word,\n",
    "                                           num_topics=num_topics)\n",
    "    # Print the Keyword in the 10 topics\n",
    "    pprint(lda_model.print_topics())\n",
    "    return lda_model\n",
    "\n",
    "def get_lda_topics(lda_model, corpus):\n",
    "    doc_lda = lda_model[corpus]\n",
    "    return doc_lda   \n"
   ]
  },
  {
   "cell_type": "code",
   "execution_count": 22,
   "id": "644d407b",
   "metadata": {
    "execution": {
     "iopub.execute_input": "2022-04-04T11:01:18.314256Z",
     "iopub.status.busy": "2022-04-04T11:01:18.313745Z",
     "iopub.status.idle": "2022-04-04T11:01:18.402110Z",
     "shell.execute_reply": "2022-04-04T11:01:18.401231Z"
    },
    "papermill": {
     "duration": 0.137609,
     "end_time": "2022-04-04T11:01:18.402301",
     "exception": false,
     "start_time": "2022-04-04T11:01:18.264692",
     "status": "completed"
    },
    "tags": []
   },
   "outputs": [
    {
     "name": "stderr",
     "output_type": "stream",
     "text": [
      "/opt/conda/lib/python3.7/site-packages/past/types/oldstr.py:36: DeprecationWarning: invalid escape sequence \\d\n",
      "  \"\"\"\n"
     ]
    }
   ],
   "source": [
    "import pyLDAvis.gensim\n",
    "import pickle \n",
    "import pyLDAvis\n",
    "\n",
    "# Visualize the topics\n",
    "def plot_topics(num_topics, lda_model, corpus, id2word):\n",
    "    pyLDAvis.enable_notebook()\n",
    "    LDAvis_data_filepath = os.path.join('./ldavis_prepared_'+str(num_topics))\n",
    "    # # this is a bit time consuming - make the if statement True\n",
    "    # # if you want to execute visualization prep yourself\n",
    "    if 1 == 1:\n",
    "        LDAvis_prepared = pyLDAvis.gensim.prepare(lda_model, corpus, id2word)\n",
    "        with open(LDAvis_data_filepath, 'wb') as f:\n",
    "            pickle.dump(LDAvis_prepared, f)\n",
    "    # load the pre-prepared pyLDAvis data from disk\n",
    "    with open(LDAvis_data_filepath, 'rb') as f:\n",
    "        LDAvis_prepared = pickle.load(f)\n",
    "    pyLDAvis.save_html(LDAvis_prepared, './ldavis_prepared_'+ str(num_topics) +'.html')\n",
    "    print(LDAvis_prepared)"
   ]
  },
  {
   "cell_type": "code",
   "execution_count": 23,
   "id": "46215e9c",
   "metadata": {
    "execution": {
     "iopub.execute_input": "2022-04-04T11:01:18.571205Z",
     "iopub.status.busy": "2022-04-04T11:01:18.570463Z",
     "iopub.status.idle": "2022-04-04T11:04:00.928300Z",
     "shell.execute_reply": "2022-04-04T11:04:00.927476Z"
    },
    "papermill": {
     "duration": 162.442959,
     "end_time": "2022-04-04T11:04:00.928435",
     "exception": false,
     "start_time": "2022-04-04T11:01:18.485476",
     "status": "completed"
    },
    "tags": []
   },
   "outputs": [
    {
     "name": "stdout",
     "output_type": "stream",
     "text": [
      "[(0, 1), (1, 1), (2, 3), (3, 2), (4, 1), (5, 1), (6, 1), (7, 1), (8, 1), (9, 1), (10, 1), (11, 1), (12, 2), (13, 1), (14, 1), (15, 1), (16, 2), (17, 1), (18, 1), (19, 13), (20, 1), (21, 1), (22, 1), (23, 1), (24, 3), (25, 3), (26, 1), (27, 5), (28, 1), (29, 3)]\n",
      "[(0, 1), (1, 1), (2, 3), (3, 2), (4, 1), (5, 1), (6, 1), (7, 1), (8, 1), (9, 1), (10, 1), (11, 1), (12, 2), (13, 1), (14, 1), (15, 1), (16, 2), (17, 1), (18, 1), (19, 13), (20, 1), (21, 1), (22, 1), (23, 1), (24, 3), (25, 3), (26, 1), (27, 5), (28, 1), (29, 3)]\n",
      "[(0,\n",
      "  '0.007*\"trump\" + 0.006*\"government\" + 0.006*\"president\" + 0.005*\"syria\" + '\n",
      "  '0.005*\"obama\" + 0.005*\"american\" + 0.004*\"people\" + 0.004*\"country\" + '\n",
      "  '0.004*\"time\" + 0.004*\"united\"'),\n",
      " (1,\n",
      "  '0.015*\"trump\" + 0.007*\"president\" + 0.005*\"news\" + 0.005*\"medium\" + '\n",
      "  '0.005*\"obama\" + 0.004*\"time\" + 0.004*\"people\" + 0.003*\"american\" + '\n",
      "  '0.003*\"city\" + 0.003*\"donald\"'),\n",
      " (2,\n",
      "  '0.007*\"people\" + 0.006*\"police\" + 0.005*\"black\" + 0.005*\"trump\" + '\n",
      "  '0.004*\"time\" + 0.004*\"white\" + 0.004*\"medium\" + 0.004*\"woman\" + '\n",
      "  '0.004*\"life\" + 0.003*\"shooting\"'),\n",
      " (3,\n",
      "  '0.015*\"trump\" + 0.013*\"clinton\" + 0.008*\"news\" + 0.008*\"hillary\" + '\n",
      "  '0.007*\"medium\" + 0.006*\"election\" + 0.006*\"president\" + 0.005*\"fbi\" + '\n",
      "  '0.005*\"time\" + 0.005*\"obama\"')]\n"
     ]
    },
    {
     "name": "stderr",
     "output_type": "stream",
     "text": [
      "/opt/conda/lib/python3.7/site-packages/pyLDAvis/_prepare.py:248: FutureWarning: In a future version of pandas all arguments of DataFrame.drop except for the argument 'labels' will be keyword-only\n",
      "  by='saliency', ascending=False).head(R).drop('saliency', 1)\n"
     ]
    },
    {
     "name": "stdout",
     "output_type": "stream",
     "text": [
      "PreparedData(topic_coordinates=              x         y  topics  cluster       Freq\n",
      "topic                                                \n",
      "3      0.074090  0.034372       1        1  28.014613\n",
      "2     -0.058122  0.018792       2        1  25.721399\n",
      "0      0.019140 -0.061216       3        1  25.115774\n",
      "1     -0.035108  0.008052       4        1  21.148213, topic_info=           Term          Freq         Total Category  logprob  loglift\n",
      "123     clinton  20041.000000  20041.000000  Default  30.0000  30.0000\n",
      "97        trump  40213.000000  40213.000000  Default  29.0000  29.0000\n",
      "294      police   9904.000000   9904.000000  Default  28.0000  28.0000\n",
      "146       email   5861.000000   5861.000000  Default  27.0000  27.0000\n",
      "148         fbi   7721.000000   7721.000000  Default  26.0000  26.0000\n",
      "...         ...           ...           ...      ...      ...      ...\n",
      "3117    century   1757.234715   8807.660187   Topic4  -6.1570  -0.0583\n",
      "882    national   1666.328491   7593.735740   Topic4  -6.2101   0.0369\n",
      "2       america   1775.515449  10181.429479   Topic4  -6.1466  -0.1929\n",
      "181      report   1655.718768   9900.007474   Topic4  -6.2165  -0.2347\n",
      "623   political   1617.104083  10810.902921   Topic4  -6.2401  -0.3463\n",
      "\n",
      "[436 rows x 6 columns], token_table=       Topic      Freq         Term\n",
      "term                               \n",
      "13738      1  0.885880       abedin\n",
      "13738      2  0.003676       abedin\n",
      "13738      3  0.102924       abedin\n",
      "13738      4  0.007352       abedin\n",
      "20441      1  0.954375  acrimonious\n",
      "...      ...       ...          ...\n",
      "16425      2  0.124119        yemen\n",
      "16425      3  0.779722        yemen\n",
      "16425      4  0.070016        yemen\n",
      "60698      1  0.974223      zeifman\n",
      "60698      3  0.023762      zeifman\n",
      "\n",
      "[1098 rows x 3 columns], R=30, lambda_step=0.01, plot_opts={'xlab': 'PC1', 'ylab': 'PC2'}, topic_order=[4, 3, 1, 2])\n",
      "[(0, 1), (1, 1), (2, 2), (3, 1), (4, 3), (5, 1), (6, 1), (7, 1), (8, 1), (9, 1), (10, 1), (11, 1), (12, 1), (13, 1), (14, 1), (15, 1), (16, 1), (17, 1), (18, 1), (19, 1), (20, 5), (21, 1), (22, 1), (23, 1), (24, 1), (25, 1), (26, 3), (27, 1), (28, 1), (29, 1)]\n",
      "[(0, 1), (1, 1), (2, 2), (3, 1), (4, 3), (5, 1), (6, 1), (7, 1), (8, 1), (9, 1), (10, 1), (11, 1), (12, 1), (13, 1), (14, 1), (15, 1), (16, 1), (17, 1), (18, 1), (19, 1), (20, 5), (21, 1), (22, 1), (23, 1), (24, 1), (25, 1), (26, 3), (27, 1), (28, 1), (29, 1)]\n",
      "[(0,\n",
      "  '0.008*\"people\" + 0.005*\"government\" + 0.005*\"city\" + 0.004*\"police\" + '\n",
      "  '0.004*\"country\" + 0.004*\"saudi\" + 0.004*\"president\" + 0.003*\"told\" + '\n",
      "  '0.003*\"official\" + 0.003*\"killed\"'),\n",
      " (1,\n",
      "  '0.016*\"trump\" + 0.011*\"party\" + 0.010*\"court\" + 0.010*\"election\" + '\n",
      "  '0.009*\"president\" + 0.008*\"republican\" + 0.006*\"vote\" + 0.006*\"campaign\" + '\n",
      "  '0.005*\"clinton\" + 0.005*\"people\"'),\n",
      " (2,\n",
      "  '0.008*\"government\" + 0.007*\"president\" + 0.007*\"trump\" + 0.007*\"china\" + '\n",
      "  '0.005*\"mexico\" + 0.004*\"country\" + 0.004*\"people\" + 0.004*\"percent\" + '\n",
      "  '0.004*\"party\" + 0.004*\"united\"'),\n",
      " (3,\n",
      "  '0.009*\"government\" + 0.007*\"party\" + 0.007*\"north\" + 0.006*\"minister\" + '\n",
      "  '0.006*\"country\" + 0.006*\"united\" + 0.005*\"korea\" + 0.005*\"president\" + '\n",
      "  '0.005*\"told\" + 0.005*\"official\"')]\n"
     ]
    },
    {
     "name": "stderr",
     "output_type": "stream",
     "text": [
      "/opt/conda/lib/python3.7/site-packages/pyLDAvis/_prepare.py:248: FutureWarning: In a future version of pandas all arguments of DataFrame.drop except for the argument 'labels' will be keyword-only\n",
      "  by='saliency', ascending=False).head(R).drop('saliency', 1)\n"
     ]
    },
    {
     "name": "stdout",
     "output_type": "stream",
     "text": [
      "PreparedData(topic_coordinates=              x         y  topics  cluster       Freq\n",
      "topic                                                \n",
      "1      0.097020 -0.003876       1        1  32.773120\n",
      "3     -0.057612 -0.059771       2        1  30.254254\n",
      "2      0.013005  0.004105       3        1  20.940872\n",
      "0     -0.052414  0.059542       4        1  16.031754, topic_info=          Term          Freq         Total Category  logprob  loglift\n",
      "6178        eu   4988.000000   4988.000000  Default  30.0000  30.0000\n",
      "795     mexico   4324.000000   4324.000000  Default  29.0000  29.0000\n",
      "792      korea   6811.000000   6811.000000  Default  28.0000  28.0000\n",
      "2599     china   9830.000000   9830.000000  Default  27.0000  27.0000\n",
      "248      court  17023.000000  17023.000000  Default  26.0000  26.0000\n",
      "...        ...           ...           ...      ...      ...      ...\n",
      "423      power   1311.746039   7256.160030   Topic4  -6.0971   0.1201\n",
      "739   security   1344.585730   9513.187304   Topic4  -6.0723  -0.1260\n",
      "204      trump   1482.335631  30788.192164   Topic4  -5.9748  -1.2029\n",
      "796   minister   1349.959673  10590.552172   Topic4  -6.0683  -0.2293\n",
      "248      court   1363.063725  17023.831854   Topic4  -6.0587  -0.6943\n",
      "\n",
      "[389 rows x 6 columns], token_table=       Topic      Freq   Term\n",
      "term                         \n",
      "5004       1  0.032535  abbas\n",
      "5004       2  0.039765  abbas\n",
      "5004       3  0.021690  abbas\n",
      "5004       4  0.907375  abbas\n",
      "14821      1  0.002671    afd\n",
      "...      ...       ...    ...\n",
      "1436       3  0.045940  yemen\n",
      "1436       4  0.749397  yemen\n",
      "17793      1  0.013126  zapad\n",
      "17793      2  0.971320  zapad\n",
      "17793      3  0.013126  zapad\n",
      "\n",
      "[1161 rows x 3 columns], R=30, lambda_step=0.01, plot_opts={'xlab': 'PC1', 'ylab': 'PC2'}, topic_order=[2, 4, 3, 1])\n"
     ]
    }
   ],
   "source": [
    "\n",
    "def execute_lda(data):\n",
    "    corpus = get_lda_corpus(data)[0]\n",
    "    id2word = get_lda_corpus(data)[1]\n",
    "    lda_model = build_lda(corpus, id2word, num_topics)\n",
    "    doc_lda = get_lda_topics(lda_model, corpus)\n",
    "    plot_topics(num_topics, lda_model, corpus, id2word)\n",
    "\n",
    "# Perform LDA for fake news\n",
    "execute_lda(words_in_each_article_f)\n",
    "\n",
    "# Perform LDA for real news\n",
    "execute_lda(words_in_each_article_t)\n",
    "\n",
    "# open the generated html in a browser in order to see the displayed polts for the topic models"
   ]
  }
 ],
 "metadata": {
  "kernelspec": {
   "display_name": "Python 3",
   "language": "python",
   "name": "python3"
  },
  "language_info": {
   "codemirror_mode": {
    "name": "ipython",
    "version": 3
   },
   "file_extension": ".py",
   "mimetype": "text/x-python",
   "name": "python",
   "nbconvert_exporter": "python",
   "pygments_lexer": "ipython3",
   "version": "3.7.12"
  },
  "papermill": {
   "default_parameters": {},
   "duration": 1334.279501,
   "end_time": "2022-04-04T11:04:03.587465",
   "environment_variables": {},
   "exception": null,
   "input_path": "__notebook__.ipynb",
   "output_path": "__notebook__.ipynb",
   "parameters": {},
   "start_time": "2022-04-04T10:41:49.307964",
   "version": "2.3.3"
  }
 },
 "nbformat": 4,
 "nbformat_minor": 5
}
