{
 "cells": [
  {
   "cell_type": "markdown",
   "id": "79f89ace",
   "metadata": {
    "papermill": {
     "duration": 0.02038,
     "end_time": "2022-03-21T20:45:07.856293",
     "exception": false,
     "start_time": "2022-03-21T20:45:07.835913",
     "status": "completed"
    },
    "tags": []
   },
   "source": [
    "# **Detecting Fake News Using Machine Learning Algorithms**"
   ]
  },
  {
   "cell_type": "code",
   "execution_count": 1,
   "id": "d02214b8",
   "metadata": {
    "_cell_guid": "b1076dfc-b9ad-4769-8c92-a6c4dae69d19",
    "_uuid": "8f2839f25d086af736a60e9eeb907d3b93b6e0e5",
    "execution": {
     "iopub.execute_input": "2022-03-21T20:45:07.908236Z",
     "iopub.status.busy": "2022-03-21T20:45:07.907435Z",
     "iopub.status.idle": "2022-03-21T20:45:18.726607Z",
     "shell.execute_reply": "2022-03-21T20:45:18.725995Z"
    },
    "papermill": {
     "duration": 10.8496,
     "end_time": "2022-03-21T20:45:18.726758",
     "exception": false,
     "start_time": "2022-03-21T20:45:07.877158",
     "status": "completed"
    },
    "tags": []
   },
   "outputs": [],
   "source": [
    "import os\n",
    "import pandas as pd\n",
    "import numpy as np\n",
    "import seaborn as sns\n",
    "import matplotlib.pyplot as plt\n",
    "import nltk\n",
    "from nltk.corpus import stopwords\n",
    "from nltk.tokenize import word_tokenize\n",
    "import spacy\n",
    "import statistics\n",
    "from collections import Counter\n",
    "import sklearn"
   ]
  },
  {
   "cell_type": "markdown",
   "id": "2675c567",
   "metadata": {
    "papermill": {
     "duration": 0.01876,
     "end_time": "2022-03-21T20:45:18.765020",
     "exception": false,
     "start_time": "2022-03-21T20:45:18.746260",
     "status": "completed"
    },
    "tags": []
   },
   "source": [
    "# **Data Preparation**"
   ]
  },
  {
   "cell_type": "code",
   "execution_count": 2,
   "id": "cfcb360f",
   "metadata": {
    "execution": {
     "iopub.execute_input": "2022-03-21T20:45:18.808657Z",
     "iopub.status.busy": "2022-03-21T20:45:18.808024Z",
     "iopub.status.idle": "2022-03-21T20:45:21.223948Z",
     "shell.execute_reply": "2022-03-21T20:45:21.223346Z"
    },
    "papermill": {
     "duration": 2.43997,
     "end_time": "2022-03-21T20:45:21.224126",
     "exception": false,
     "start_time": "2022-03-21T20:45:18.784156",
     "status": "completed"
    },
    "tags": []
   },
   "outputs": [
    {
     "name": "stdout",
     "output_type": "stream",
     "text": [
      "\n",
      "Dataset Sizes:\n",
      "Fake News: (23481, 5)\n",
      "Real News: (21417, 5)\n"
     ]
    }
   ],
   "source": [
    "# import the data in pandas dataframes\n",
    "fake_news = pd.read_csv('../input/fake-and-real-news-dataset/Fake.csv')\n",
    "real_news = pd.read_csv('../input/fake-and-real-news-dataset/True.csv')\n",
    "\n",
    "# create a new column with the class of each article in the dataset\n",
    "fake_news[\"label\"] = \"fake\"\n",
    "real_news[\"label\"] = \"real\"\n",
    "\n",
    "# print dataset sizes\n",
    "print(\"\\nDataset Sizes:\")\n",
    "print (f\"Fake News: {fake_news.shape}\")\n",
    "print (f\"Real News: {real_news.shape}\")"
   ]
  },
  {
   "cell_type": "code",
   "execution_count": 3,
   "id": "ccf55acc",
   "metadata": {
    "execution": {
     "iopub.execute_input": "2022-03-21T20:45:21.322818Z",
     "iopub.status.busy": "2022-03-21T20:45:21.317890Z",
     "iopub.status.idle": "2022-03-21T20:45:25.474031Z",
     "shell.execute_reply": "2022-03-21T20:45:25.473381Z"
    },
    "papermill": {
     "duration": 4.228666,
     "end_time": "2022-03-21T20:45:25.474175",
     "exception": false,
     "start_time": "2022-03-21T20:45:21.245509",
     "status": "completed"
    },
    "tags": []
   },
   "outputs": [
    {
     "name": "stdout",
     "output_type": "stream",
     "text": [
      "['News' 'politics' 'Government News' 'left-news' 'US_News' 'Middle-east']\n",
      "['politicsNews' 'worldnews']\n",
      "\n",
      "Dataset Sizes:\n",
      "Fake News: (23481, 5)\n",
      "Real News: (21415, 5)\n",
      "\n"
     ]
    }
   ],
   "source": [
    "# Remove location and publisher columns from real news dataframe for consistency with the fake news dataframe\n",
    "real_news[\"text\"] = real_news['text'].apply(lambda x: x.partition(\"-\")[2])\n",
    "\n",
    "# Display the subjects included in the dataset.\n",
    "print (fake_news[\"subject\"].unique())\n",
    "print (real_news[\"subject\"].unique())\n",
    "\n",
    "# Remove articles with only pictures or no text at all\n",
    "real_news = real_news[real_news[\"text\"] != \"\"] \n",
    "fake_news = fake_news[fake_news[\"text\"] != \"\"] \n",
    "\n",
    "# Print dataset sizes\n",
    "print(\"\\nDataset Sizes:\")\n",
    "print(f\"Fake News: {fake_news.shape}\")\n",
    "print(f\"Real News: {real_news.shape}\")\n",
    "\n",
    "print()\n",
    "\n",
    "# Save the prepared dataset to .csv files\n",
    "fake_news.to_csv('fakeForModeling.csv')\n",
    "#!cp fakeForModeling.csv \"./\"\n",
    "real_news.to_csv('trueForModeling.csv')\n",
    "#!cp trueForModeling.csv \"./\""
   ]
  },
  {
   "cell_type": "markdown",
   "id": "ceffbdba",
   "metadata": {
    "papermill": {
     "duration": 0.019502,
     "end_time": "2022-03-21T20:45:25.513569",
     "exception": false,
     "start_time": "2022-03-21T20:45:25.494067",
     "status": "completed"
    },
    "tags": []
   },
   "source": [
    "# **Data Cleansing And Pre-Processing**"
   ]
  },
  {
   "cell_type": "code",
   "execution_count": 4,
   "id": "3455b168",
   "metadata": {
    "execution": {
     "iopub.execute_input": "2022-03-21T20:45:25.564001Z",
     "iopub.status.busy": "2022-03-21T20:45:25.563401Z",
     "iopub.status.idle": "2022-03-21T20:45:25.581365Z",
     "shell.execute_reply": "2022-03-21T20:45:25.580790Z"
    },
    "papermill": {
     "duration": 0.048401,
     "end_time": "2022-03-21T20:45:25.581475",
     "exception": false,
     "start_time": "2022-03-21T20:45:25.533074",
     "status": "completed"
    },
    "tags": []
   },
   "outputs": [],
   "source": [
    "import string\n",
    "import nltk\n",
    "# nltk.download(\"stopwords\")\n",
    "from nltk.corpus import stopwords\n",
    "from nltk.stem import WordNetLemmatizer \n",
    "import requests\n",
    "\n",
    "stop_words = list(stopwords.words('english'))\n",
    "#additional stopwords\n",
    "stop_words.extend([\"said\", \"reuters\", \"CNN\", \"image\", \"via\", 'monday', 'tuesday', 'wednesday', 'thursday', 'friday']) \n",
    "# opening the file in read mode\n",
    "extra_stopwords_file = open(\"../input/stopwords/stopwords-en.txt\", \"r\")\n",
    "# reading the file\n",
    "extra_stopwords = extra_stopwords_file.read()\n",
    "# replacing end splitting the text when newline ('\\n') is seen.\n",
    "extra_stopwords_list = extra_stopwords.split(\"\\n\")\n",
    "# closing the file\n",
    "extra_stopwords_file.close()\n",
    "# appending the list of stopwords\n",
    "stop_words.extend(extra_stopwords_list)\n",
    "\n",
    "# Initialize the lemmatization process\n",
    "lemmatizer = WordNetLemmatizer()  \n",
    "\n",
    "words_in_t = [] #all tokens in true articles\n",
    "words_in_f = [] #all tokens in fake articles\n",
    "words_in_each_article_t = [] #list of true articles, each in tokenized form\n",
    "words_in_each_article_f = [] #list of fake articles, each in tokenized form\n",
    "\n",
    "def tokenize(article):\n",
    "    '''\n",
    "    Transforms all words into tokens\n",
    "    '''\n",
    "    return word_tokenize(article)\n",
    "\n",
    "def to_lower_case(words):\n",
    "    '''\n",
    "    Transforms all words to lower case\n",
    "    '''\n",
    "    return [word.lower() for word in words if word.isalpha()]\n",
    "\n",
    "def remove_stopwords_punctuation(words):\n",
    "    '''\n",
    "    Removes stopwords and punctuation from the dataset\n",
    "    '''\n",
    "    return [word for word in words if word not in string.punctuation and word not in stop_words]\n",
    "\n",
    "def lemmatize(words):\n",
    "    '''\n",
    "    Converts a word to its root form, a lemma\n",
    "    '''\n",
    "    return [lemmatizer.lemmatize(word) for word in words]\n",
    "\n",
    "def process(df, word_list, by_article_list):\n",
    "    '''\n",
    "    Executes cleansing and preprocessing for each article in the dataset\n",
    "    '''\n",
    "    for article in (df[\"text\"]):\n",
    "        words = tokenize(article)\n",
    "        words = to_lower_case(words)\n",
    "        words = remove_stopwords_punctuation(words)\n",
    "        words = lemmatize(words)\n",
    "\n",
    "        by_article_list.append(words)\n",
    "        for w in words:\n",
    "          word_list.append(w)"
   ]
  },
  {
   "cell_type": "code",
   "execution_count": 5,
   "id": "65dbded2",
   "metadata": {
    "execution": {
     "iopub.execute_input": "2022-03-21T20:45:25.624948Z",
     "iopub.status.busy": "2022-03-21T20:45:25.624421Z",
     "iopub.status.idle": "2022-03-21T20:52:02.440710Z",
     "shell.execute_reply": "2022-03-21T20:52:02.439798Z"
    },
    "papermill": {
     "duration": 396.839449,
     "end_time": "2022-03-21T20:52:02.440861",
     "exception": false,
     "start_time": "2022-03-21T20:45:25.601412",
     "status": "completed"
    },
    "tags": []
   },
   "outputs": [],
   "source": [
    "# Execute cleansing and preprocessing\n",
    "process(fake_news, words_in_f, words_in_each_article_f)\n",
    "process(real_news, words_in_t, words_in_each_article_t)"
   ]
  },
  {
   "cell_type": "markdown",
   "id": "c2f51830",
   "metadata": {
    "papermill": {
     "duration": 0.019682,
     "end_time": "2022-03-21T20:52:02.481018",
     "exception": false,
     "start_time": "2022-03-21T20:52:02.461336",
     "status": "completed"
    },
    "tags": []
   },
   "source": [
    "**Data Split Into Training And Test Set**"
   ]
  },
  {
   "cell_type": "code",
   "execution_count": 6,
   "id": "96c2c87c",
   "metadata": {
    "execution": {
     "iopub.execute_input": "2022-03-21T20:52:02.536736Z",
     "iopub.status.busy": "2022-03-21T20:52:02.523239Z",
     "iopub.status.idle": "2022-03-21T20:53:13.673480Z",
     "shell.execute_reply": "2022-03-21T20:53:13.674266Z"
    },
    "papermill": {
     "duration": 71.173261,
     "end_time": "2022-03-21T20:53:13.674462",
     "exception": false,
     "start_time": "2022-03-21T20:52:02.501201",
     "status": "completed"
    },
    "tags": []
   },
   "outputs": [],
   "source": [
    "import sklearn.model_selection as ms\n",
    "from sklearn.feature_extraction.text import TfidfVectorizer\n",
    "\n",
    "# Get tokenized forms of all articles (true and fake) in one dataframe (X)\n",
    "tokenised_dataset = []\n",
    "for a in words_in_each_article_t:\n",
    "  tokenised_dataset.append(a)\n",
    "for b in words_in_each_article_f:\n",
    "  tokenised_dataset.append(b)\n",
    "\n",
    "# Get labels of all articles (true and fake) in one dataframe (y)\n",
    "y = pd.concat([real_news[\"label\"], fake_news[\"label\"]])\n",
    "y = [1 if x == \"fake\" else 0 for x in y] #1 and 0 for ease of tokenizing\n",
    "articles = pd.DataFrame(tokenised_dataset)\n",
    "labels = pd.DataFrame(y, columns=[\"label\"])\n",
    "\n",
    "# Save articles dataframe to .csv file\n",
    "articles.to_csv('articles.csv')\n",
    "\n",
    "# Save labels dataframe to .csv file\n",
    "labels.to_csv('labels.csv')\n",
    "\n",
    "# Split the data, 80% for the training set and 20% for the test set \n",
    "X_train, X_test, y_train, y_test = ms.train_test_split(tokenised_dataset, labels, test_size = 0.2, random_state=1)\n",
    "\n",
    "# Keep all words that appear in more than the 10% of the documents in the dataset.\n",
    "# Override the preprocessor in order to use the already cleansed words from the earlier phases.\n",
    "tfidf = TfidfVectorizer(min_df = 0.1, preprocessor = ' '.join)\n",
    "\n",
    "# Training Set\n",
    "# Sparse Document-Term Matrix\n",
    "response_train = tfidf.fit_transform(X_train) \n",
    "feature_names_train = tfidf.get_feature_names()\n",
    "\n",
    "# Dense Document-Term Matrix\n",
    "dense_train = response_train.todense() \n",
    "denselist_train = dense_train.tolist()\n",
    "df_train = pd.DataFrame(denselist_train, columns=feature_names_train)\n",
    "\n",
    "tfidf = TfidfVectorizer(preprocessor = ' '.join, vocabulary = feature_names_train)\n",
    "\n",
    "# Test Set\n",
    "# Sparse Document-Term Matrix\n",
    "response_test = tfidf.fit_transform(X_test)\n",
    "feature_names_test = tfidf.get_feature_names()\n",
    "\n",
    "# Dense Document-Term Matrix\n",
    "dense_test = response_test.todense() \n",
    "denselist_test = dense_test.tolist()\n",
    "df_test = pd.DataFrame(denselist_test, columns=feature_names_test)"
   ]
  },
  {
   "cell_type": "code",
   "execution_count": 7,
   "id": "f9a19a8e",
   "metadata": {
    "execution": {
     "iopub.execute_input": "2022-03-21T20:53:13.732852Z",
     "iopub.status.busy": "2022-03-21T20:53:13.731648Z",
     "iopub.status.idle": "2022-03-21T20:53:17.669900Z",
     "shell.execute_reply": "2022-03-21T20:53:17.669351Z"
    },
    "papermill": {
     "duration": 3.969647,
     "end_time": "2022-03-21T20:53:17.670068",
     "exception": false,
     "start_time": "2022-03-21T20:53:13.700421",
     "status": "completed"
    },
    "tags": []
   },
   "outputs": [],
   "source": [
    "# Final data to be used for training models\n",
    "df_train.to_csv('training_data.csv')\n",
    "\n",
    "# Final data to be used for testing models\n",
    "df_test.to_csv('testing_data.csv')\n",
    "\n",
    "y_train = pd.DataFrame(y_train, columns=[\"label\"])\n",
    "y_test = pd.DataFrame(y_test, columns=[\"label\"])\n",
    "\n",
    "# Final labels to be used for training models\n",
    "y_train.to_csv('train_labels.csv')\n",
    "\n",
    "# Final labels to be used for testing models\n",
    "y_test.to_csv('test_labels.csv')"
   ]
  },
  {
   "cell_type": "markdown",
   "id": "7da863c9",
   "metadata": {
    "papermill": {
     "duration": 0.01994,
     "end_time": "2022-03-21T20:53:17.710807",
     "exception": false,
     "start_time": "2022-03-21T20:53:17.690867",
     "status": "completed"
    },
    "tags": []
   },
   "source": [
    "# **Data Mining Phase I: *Detecting Fake News***"
   ]
  },
  {
   "cell_type": "code",
   "execution_count": 8,
   "id": "84264f91",
   "metadata": {
    "execution": {
     "iopub.execute_input": "2022-03-21T20:53:17.756043Z",
     "iopub.status.busy": "2022-03-21T20:53:17.755399Z",
     "iopub.status.idle": "2022-03-21T20:53:17.757608Z",
     "shell.execute_reply": "2022-03-21T20:53:17.758074Z"
    },
    "papermill": {
     "duration": 0.027116,
     "end_time": "2022-03-21T20:53:17.758203",
     "exception": false,
     "start_time": "2022-03-21T20:53:17.731087",
     "status": "completed"
    },
    "tags": []
   },
   "outputs": [],
   "source": [
    "# import the required libraries\n",
    "import pandas as pd\n",
    "import numpy as np\n",
    "import seaborn as sns\n",
    "import matplotlib.pyplot as plt\n",
    "import nltk\n",
    "import sklearn\n",
    "from sklearn import metrics\n",
    "from sklearn.metrics import mean_squared_error\n",
    "import os"
   ]
  },
  {
   "cell_type": "code",
   "execution_count": 9,
   "id": "6e9ae006",
   "metadata": {
    "execution": {
     "iopub.execute_input": "2022-03-21T20:53:17.805029Z",
     "iopub.status.busy": "2022-03-21T20:53:17.804281Z",
     "iopub.status.idle": "2022-03-21T20:53:18.830498Z",
     "shell.execute_reply": "2022-03-21T20:53:18.831235Z"
    },
    "papermill": {
     "duration": 1.052685,
     "end_time": "2022-03-21T20:53:18.831450",
     "exception": false,
     "start_time": "2022-03-21T20:53:17.778765",
     "status": "completed"
    },
    "tags": []
   },
   "outputs": [
    {
     "name": "stdout",
     "output_type": "stream",
     "text": [
      "\n",
      "Dataset Sizes:\n",
      "Fake News: (23481, 6)\n",
      "Real News: (21415, 6)\n"
     ]
    }
   ],
   "source": [
    "# load the preprocessed data for classification\n",
    "# x_train = pd.read_csv('../input/fakereal-news-dataset-after-preprocessing/training_data.csv')\n",
    "# x_test = pd.read_csv('../input/fakereal-news-dataset-after-preprocessing/testing_data.csv')\n",
    "# y_train = pd.read_csv('../input/fakereal-news-dataset-after-preprocessing/train_labels.csv')\n",
    "# y_test = pd.read_csv('../input/fakereal-news-dataset-after-preprocessing/test_labels.csv')\n",
    "\n",
    "x_train = df_train\n",
    "x_test = df_test\n",
    "\n",
    "fake = pd.read_csv('./fakeForModeling.csv')\n",
    "true = pd.read_csv('./trueForModeling.csv')\n",
    "\n",
    "# print dataset sizes\n",
    "print(\"\\nDataset Sizes:\")\n",
    "print (f\"Fake News: {fake.shape}\")\n",
    "print (f\"Real News: {true.shape}\")"
   ]
  },
  {
   "cell_type": "code",
   "execution_count": 10,
   "id": "045cd2be",
   "metadata": {
    "execution": {
     "iopub.execute_input": "2022-03-21T20:53:18.879514Z",
     "iopub.status.busy": "2022-03-21T20:53:18.878650Z",
     "iopub.status.idle": "2022-03-21T20:53:18.883765Z",
     "shell.execute_reply": "2022-03-21T20:53:18.883336Z"
    },
    "papermill": {
     "duration": 0.029729,
     "end_time": "2022-03-21T20:53:18.883865",
     "exception": false,
     "start_time": "2022-03-21T20:53:18.854136",
     "status": "completed"
    },
    "tags": []
   },
   "outputs": [],
   "source": [
    "# Saving Models Utilities\n",
    "import pickle\n",
    "\n",
    "def save_model(model, filename_with_ext):\n",
    "    '''\n",
    "    Saves a machine learning model produced using sci-kit learn in a .pkl file.\n",
    "    '''  \n",
    "    with open(filename_with_ext, 'wb') as file:  \n",
    "        pickle.dump(model, file)\n",
    "    print(\"\\nThe model was saved successfully.\")"
   ]
  },
  {
   "cell_type": "markdown",
   "id": "4923f34f",
   "metadata": {
    "papermill": {
     "duration": 0.020654,
     "end_time": "2022-03-21T20:53:18.925564",
     "exception": false,
     "start_time": "2022-03-21T20:53:18.904910",
     "status": "completed"
    },
    "tags": []
   },
   "source": [
    "**Naive Bayes**"
   ]
  },
  {
   "cell_type": "code",
   "execution_count": 11,
   "id": "15e0ccfb",
   "metadata": {
    "execution": {
     "iopub.execute_input": "2022-03-21T20:53:18.980355Z",
     "iopub.status.busy": "2022-03-21T20:53:18.979803Z",
     "iopub.status.idle": "2022-03-21T20:53:19.558730Z",
     "shell.execute_reply": "2022-03-21T20:53:19.558310Z"
    },
    "papermill": {
     "duration": 0.612647,
     "end_time": "2022-03-21T20:53:19.558859",
     "exception": false,
     "start_time": "2022-03-21T20:53:18.946212",
     "status": "completed"
    },
    "tags": []
   },
   "outputs": [
    {
     "name": "stdout",
     "output_type": "stream",
     "text": [
      "CPU times: user 20.6 ms, sys: 1.9 ms, total: 22.5 ms\n",
      "Wall time: 20.6 ms\n",
      "\n",
      "Accuracy is: 0.8249443207126949\n",
      "Mean Squared Error is: 0.41839655745154636\n",
      "\n",
      "Naive Bayes Confusion Matrix: \n",
      "\n"
     ]
    },
    {
     "data": {
      "image/png": "[encoded data removed]",
      "text/plain": [
       "<Figure size 432x288 with 2 Axes>"
      ]
     },
     "metadata": {
      "needs_background": "light"
     },
     "output_type": "display_data"
    },
    {
     "name": "stdout",
     "output_type": "stream",
     "text": [
      "\n",
      "Naive Bayes Classification Report: \n",
      "\n",
      "              precision    recall  f1-score   support\n",
      "\n",
      "           0       0.83      0.81      0.82      4315\n",
      "           1       0.82      0.84      0.83      4665\n",
      "\n",
      "    accuracy                           0.82      8980\n",
      "   macro avg       0.83      0.82      0.82      8980\n",
      "weighted avg       0.82      0.82      0.82      8980\n",
      "\n",
      "\n",
      "The model was saved successfully.\n",
      "\n",
      "Naive Bayes AUC Score:  0.8948953959305944\n",
      "\n",
      "Receiver Operating Characteristic (ROC) Curve: \n",
      "\n"
     ]
    },
    {
     "data": {
      "text/plain": [
       "<sklearn.metrics._plot.roc_curve.RocCurveDisplay at 0x7f0d01187c10>"
      ]
     },
     "execution_count": 11,
     "metadata": {},
     "output_type": "execute_result"
    },
    {
     "data": {
      "image/png": "[encoded data removed]",
      "text/plain": [
       "<Figure size 432x288 with 1 Axes>"
      ]
     },
     "metadata": {
      "needs_background": "light"
     },
     "output_type": "display_data"
    }
   ],
   "source": [
    "from nltk import NaiveBayesClassifier\n",
    "from sklearn.naive_bayes import MultinomialNB\n",
    "\n",
    "# Load classifier\n",
    "nb = MultinomialNB()# one of the two classic naive Bayes variants used in text classification\n",
    "\n",
    "# Train classifier\n",
    "%time nb.fit(x_train, np.ravel(y_train))\n",
    "\n",
    "# Test classifier\n",
    "y_pred_class = nb.predict(x_test)\n",
    "\n",
    "# Calculate perfomance metrics\n",
    "print(\"\\nAccuracy is:\", metrics.accuracy_score(y_test, y_pred_class))\n",
    "print(\"Mean Squared Error is:\", np.sqrt(mean_squared_error(y_test, y_pred_class)))\n",
    "\n",
    "# Display confusion matrix\n",
    "nb_cm = metrics.confusion_matrix(y_test, y_pred_class)\n",
    "print(\"\\nNaive Bayes Confusion Matrix: \\n\")\n",
    "labels =  np.array([[nb_cm[0,0],nb_cm[0,1]],[nb_cm[1,0],nb_cm[1,1]]])\n",
    "sns.heatmap(nb_cm, annot=labels, fmt = '')\n",
    "plt.show()\n",
    "\n",
    "# Display classification report\n",
    "print(\"\\nNaive Bayes Classification Report: \\n\")\n",
    "print(metrics.classification_report(y_test, y_pred_class))\n",
    "\n",
    "# Save Model\n",
    "save_model(nb, \"naive_bayes.pkl\")\n",
    "\n",
    "# Calculate predicted probabilities for test data \n",
    "y_pred_prob_nb = nb.predict_proba(x_test)[:, 1]\n",
    "\n",
    "# Calculate AUC Score\n",
    "print(\"\\nNaive Bayes AUC Score: \", metrics.roc_auc_score(y_test, y_pred_prob_nb))\n",
    "\n",
    "# Plot ROC curve\n",
    "print(\"\\nReceiver Operating Characteristic (ROC) Curve: \\n\")\n",
    "metrics.plot_roc_curve(nb, x_test, y_test)"
   ]
  },
  {
   "cell_type": "code",
   "execution_count": 12,
   "id": "21c06aff",
   "metadata": {
    "execution": {
     "iopub.execute_input": "2022-03-21T20:53:19.618178Z",
     "iopub.status.busy": "2022-03-21T20:53:19.617615Z",
     "iopub.status.idle": "2022-03-21T20:53:19.631299Z",
     "shell.execute_reply": "2022-03-21T20:53:19.630830Z"
    },
    "papermill": {
     "duration": 0.04877,
     "end_time": "2022-03-21T20:53:19.631429",
     "exception": false,
     "start_time": "2022-03-21T20:53:19.582659",
     "status": "completed"
    },
    "tags": []
   },
   "outputs": [
    {
     "name": "stdout",
     "output_type": "stream",
     "text": [
      "Top 10 most frequently occuring words in the data by : \n",
      "\n"
     ]
    },
    {
     "data": {
      "text/html": [
       "<div>\n",
       "<style scoped>\n",
       "    .dataframe tbody tr th:only-of-type {\n",
       "        vertical-align: middle;\n",
       "    }\n",
       "\n",
       "    .dataframe tbody tr th {\n",
       "        vertical-align: top;\n",
       "    }\n",
       "\n",
       "    .dataframe thead th {\n",
       "        text-align: right;\n",
       "    }\n",
       "</style>\n",
       "<table border=\"1\" class=\"dataframe\">\n",
       "  <thead>\n",
       "    <tr style=\"text-align: right;\">\n",
       "      <th></th>\n",
       "      <th>true</th>\n",
       "      <th>fake</th>\n",
       "      <th>fake/true ratio</th>\n",
       "    </tr>\n",
       "    <tr>\n",
       "      <th>token</th>\n",
       "      <th></th>\n",
       "      <th></th>\n",
       "      <th></th>\n",
       "    </tr>\n",
       "  </thead>\n",
       "  <tbody>\n",
       "    <tr>\n",
       "      <th>video</th>\n",
       "      <td>0.005882</td>\n",
       "      <td>0.053897</td>\n",
       "      <td>9.163735</td>\n",
       "    </tr>\n",
       "    <tr>\n",
       "      <th>hillary</th>\n",
       "      <td>0.010566</td>\n",
       "      <td>0.060571</td>\n",
       "      <td>5.732512</td>\n",
       "    </tr>\n",
       "    <tr>\n",
       "      <th>story</th>\n",
       "      <td>0.006141</td>\n",
       "      <td>0.030931</td>\n",
       "      <td>5.037121</td>\n",
       "    </tr>\n",
       "    <tr>\n",
       "      <th>america</th>\n",
       "      <td>0.010149</td>\n",
       "      <td>0.049432</td>\n",
       "      <td>4.870788</td>\n",
       "    </tr>\n",
       "    <tr>\n",
       "      <th>life</th>\n",
       "      <td>0.010415</td>\n",
       "      <td>0.035045</td>\n",
       "      <td>3.364871</td>\n",
       "    </tr>\n",
       "    <tr>\n",
       "      <th>woman</th>\n",
       "      <td>0.016352</td>\n",
       "      <td>0.054987</td>\n",
       "      <td>3.362762</td>\n",
       "    </tr>\n",
       "    <tr>\n",
       "      <th>american</th>\n",
       "      <td>0.024181</td>\n",
       "      <td>0.059569</td>\n",
       "      <td>2.463421</td>\n",
       "    </tr>\n",
       "    <tr>\n",
       "      <th>clinton</th>\n",
       "      <td>0.029581</td>\n",
       "      <td>0.069832</td>\n",
       "      <td>2.360716</td>\n",
       "    </tr>\n",
       "    <tr>\n",
       "      <th>matter</th>\n",
       "      <td>0.010605</td>\n",
       "      <td>0.024365</td>\n",
       "      <td>2.297606</td>\n",
       "    </tr>\n",
       "    <tr>\n",
       "      <th>supporter</th>\n",
       "      <td>0.012239</td>\n",
       "      <td>0.026754</td>\n",
       "      <td>2.186028</td>\n",
       "    </tr>\n",
       "  </tbody>\n",
       "</table>\n",
       "</div>"
      ],
      "text/plain": [
       "               true      fake  fake/true ratio\n",
       "token                                         \n",
       "video      0.005882  0.053897         9.163735\n",
       "hillary    0.010566  0.060571         5.732512\n",
       "story      0.006141  0.030931         5.037121\n",
       "america    0.010149  0.049432         4.870788\n",
       "life       0.010415  0.035045         3.364871\n",
       "woman      0.016352  0.054987         3.362762\n",
       "american   0.024181  0.059569         2.463421\n",
       "clinton    0.029581  0.069832         2.360716\n",
       "matter     0.010605  0.024365         2.297606\n",
       "supporter  0.012239  0.026754         2.186028"
      ]
     },
     "execution_count": 12,
     "metadata": {},
     "output_type": "execute_result"
    }
   ],
   "source": [
    "#Number of times token appears in each True article\n",
    "true_token = nb.feature_count_[0, :]\n",
    "\n",
    "#Number of times token appears in each Fake article\n",
    "fake_token = nb.feature_count_[1, :]\n",
    "tokens = pd.DataFrame({'token':x_train.columns, 'true':true_token, 'fake':fake_token}).set_index('token')\n",
    "\n",
    "# add 1 to true and fake counts to avoid dividing by 0\n",
    "tokens['true'] = tokens.true + 1\n",
    "tokens['fake'] = tokens.fake + 1\n",
    "# convert the true and fake counts into frequencies\n",
    "tokens['true'] = tokens.true / nb.class_count_[0]\n",
    "tokens['fake'] = tokens.fake / nb.class_count_[1]\n",
    "# calculate the ratio of fake to true for each token\n",
    "tokens['fake/true ratio'] = tokens.fake / tokens.true\n",
    "print(\"Top 10 most frequently occuring words in the data by : \\n\")\n",
    "tokens.sort_values('fake/true ratio', ascending=False).head(10)"
   ]
  },
  {
   "cell_type": "markdown",
   "id": "364a2db6",
   "metadata": {
    "papermill": {
     "duration": 0.023754,
     "end_time": "2022-03-21T20:53:19.680331",
     "exception": false,
     "start_time": "2022-03-21T20:53:19.656577",
     "status": "completed"
    },
    "tags": []
   },
   "source": [
    "**Support Vector Machines**"
   ]
  },
  {
   "cell_type": "code",
   "execution_count": 13,
   "id": "ebf89804",
   "metadata": {
    "execution": {
     "iopub.execute_input": "2022-03-21T20:53:19.738736Z",
     "iopub.status.busy": "2022-03-21T20:53:19.737739Z",
     "iopub.status.idle": "2022-03-21T20:55:05.589361Z",
     "shell.execute_reply": "2022-03-21T20:55:05.590058Z"
    },
    "papermill": {
     "duration": 105.8859,
     "end_time": "2022-03-21T20:55:05.590227",
     "exception": false,
     "start_time": "2022-03-21T20:53:19.704327",
     "status": "completed"
    },
    "tags": []
   },
   "outputs": [
    {
     "name": "stdout",
     "output_type": "stream",
     "text": [
      "Accuracy is: 0.8570155902004455\n",
      "Mean Squared Error is: 0.37813279386950105\n",
      "\n",
      "Support Vector Machines Confusion Matrix: \n",
      "\n"
     ]
    },
    {
     "data": {
      "image/png": "[encoded data removed]",
      "text/plain": [
       "<Figure size 432x288 with 2 Axes>"
      ]
     },
     "metadata": {
      "needs_background": "light"
     },
     "output_type": "display_data"
    },
    {
     "name": "stdout",
     "output_type": "stream",
     "text": [
      "\n",
      "Support Vector Machines Classification Report: \n",
      "\n",
      "              precision    recall  f1-score   support\n",
      "\n",
      "           0       0.85      0.86      0.85      4315\n",
      "           1       0.87      0.85      0.86      4665\n",
      "\n",
      "    accuracy                           0.86      8980\n",
      "   macro avg       0.86      0.86      0.86      8980\n",
      "weighted avg       0.86      0.86      0.86      8980\n",
      "\n",
      "\n",
      "The model was saved successfully.\n",
      "\n",
      "Support Vector Machines AUC Score:  0.8571110274858138\n",
      "\n",
      "Receiver Operating Characteristic (ROC) Curve: \n",
      "\n"
     ]
    },
    {
     "data": {
      "text/plain": [
       "<sklearn.metrics._plot.roc_curve.RocCurveDisplay at 0x7f0cf8ea8b50>"
      ]
     },
     "execution_count": 13,
     "metadata": {},
     "output_type": "execute_result"
    },
    {
     "data": {
      "image/png": "[encoded data removed]",
      "text/plain": [
       "<Figure size 432x288 with 1 Axes>"
      ]
     },
     "metadata": {
      "needs_background": "light"
     },
     "output_type": "display_data"
    }
   ],
   "source": [
    "from sklearn.svm import SVC\n",
    "\n",
    "# Load classifier\n",
    "svc = SVC(kernel='linear', random_state=1) \n",
    "\n",
    "# Train classifier\n",
    "svc.fit(x_train, np.ravel(y_train))\n",
    "\n",
    "# Test classifier\n",
    "y_pred_svm = svc.predict(x_test)\n",
    "\n",
    "# Calculate performance metrics\n",
    "print(\"Accuracy is:\", metrics.accuracy_score(y_test, y_pred_svm))\n",
    "print(\"Mean Squared Error is:\", np.sqrt(mean_squared_error(y_test, y_pred_svm)))\n",
    "\n",
    "# Display confusion matrix\n",
    "svm_cm = metrics.confusion_matrix(y_test, y_pred_svm)\n",
    "print(\"\\nSupport Vector Machines Confusion Matrix: \\n\")\n",
    "labels =  np.array([[svm_cm[0,0],svm_cm[0,1]],[svm_cm[1,0],svm_cm[1,1]]])\n",
    "sns.heatmap(svm_cm, annot=labels, fmt = '')\n",
    "plt.show()\n",
    "\n",
    "# Display classification report\n",
    "print(\"\\nSupport Vector Machines Classification Report: \\n\")\n",
    "print(metrics.classification_report(y_test, y_pred_svm))\n",
    "\n",
    "# Save Model\n",
    "save_model(svc, \"support_vector_machines.pkl\")\n",
    "\n",
    "# Calculate AUC Score\n",
    "print (\"\\nSupport Vector Machines AUC Score: \", metrics.roc_auc_score(y_test, y_pred_svm))\n",
    "\n",
    "# Plot ROC curve\n",
    "print(\"\\nReceiver Operating Characteristic (ROC) Curve: \\n\")\n",
    "metrics.plot_roc_curve(svc, x_test, y_test)\n"
   ]
  },
  {
   "cell_type": "markdown",
   "id": "0a1b0e74",
   "metadata": {
    "papermill": {
     "duration": 0.025889,
     "end_time": "2022-03-21T20:55:05.642691",
     "exception": false,
     "start_time": "2022-03-21T20:55:05.616802",
     "status": "completed"
    },
    "tags": []
   },
   "source": [
    "**Random Forest**"
   ]
  },
  {
   "cell_type": "code",
   "execution_count": 14,
   "id": "2977e3ad",
   "metadata": {
    "execution": {
     "iopub.execute_input": "2022-03-21T20:55:05.711330Z",
     "iopub.status.busy": "2022-03-21T20:55:05.710516Z",
     "iopub.status.idle": "2022-03-21T20:59:53.002556Z",
     "shell.execute_reply": "2022-03-21T20:59:53.002094Z"
    },
    "papermill": {
     "duration": 287.333494,
     "end_time": "2022-03-21T20:59:53.002691",
     "exception": false,
     "start_time": "2022-03-21T20:55:05.669197",
     "status": "completed"
    },
    "tags": []
   },
   "outputs": [
    {
     "name": "stdout",
     "output_type": "stream",
     "text": [
      "CPU times: user 42 µs, sys: 1 µs, total: 43 µs\n",
      "Wall time: 45.3 µs\n",
      "Accuracy: 0.921380846325167\n",
      "Mean Squared Error: 0.2803910727445383\n",
      "\n",
      "Random Forest Confusion Matrix: \n",
      "\n"
     ]
    },
    {
     "data": {
      "image/png": "[encoded data removed]",
      "text/plain": [
       "<Figure size 432x288 with 2 Axes>"
      ]
     },
     "metadata": {
      "needs_background": "light"
     },
     "output_type": "display_data"
    },
    {
     "name": "stdout",
     "output_type": "stream",
     "text": [
      "\n",
      "Random Forest Classification Report: \n",
      "\n",
      "              precision    recall  f1-score   support\n",
      "\n",
      "           0       0.93      0.90      0.92      4315\n",
      "           1       0.91      0.94      0.93      4665\n",
      "\n",
      "    accuracy                           0.92      8980\n",
      "   macro avg       0.92      0.92      0.92      8980\n",
      "weighted avg       0.92      0.92      0.92      8980\n",
      "\n",
      "\n",
      "The model was saved successfully.\n",
      "\n",
      "Random Forest AUC Score:  0.9759400580492041\n",
      "\n",
      "Display the top 10 most important features: \n",
      "\n"
     ]
    },
    {
     "data": {
      "text/plain": [
       "<AxesSubplot:>"
      ]
     },
     "execution_count": 14,
     "metadata": {},
     "output_type": "execute_result"
    },
    {
     "data": {
      "image/png": "[encoded data removed]",
      "text/plain": [
       "<Figure size 432x288 with 1 Axes>"
      ]
     },
     "metadata": {
      "needs_background": "light"
     },
     "output_type": "display_data"
    }
   ],
   "source": [
    "from sklearn.ensemble import RandomForestClassifier\n",
    "from sklearn.model_selection import GridSearchCV\n",
    "\n",
    "# Load classifier\n",
    "rf = RandomForestClassifier(random_state = 1)\n",
    "\n",
    "# Configure its parameters\n",
    "param_grid = {\n",
    "    'n_estimators': [200],\n",
    "    'max_depth': [50, 60, 70]\n",
    "    }\n",
    "\n",
    "# Train classifier\n",
    "%time grid_search_rf = GridSearchCV(estimator = rf, param_grid = param_grid, cv = 5)\n",
    "grid_search_rf.fit(x_train, np.ravel(y_train))\n",
    "grid_search_rf.best_params_\n",
    "\n",
    "# Test classifier\n",
    "y_pred_rf = grid_search_rf.predict(x_test)\n",
    "\n",
    "# Calculate perfomance metrics\n",
    "print(\"Accuracy:\", metrics.accuracy_score(y_test, y_pred_rf))\n",
    "print(\"Mean Squared Error:\", np.sqrt(mean_squared_error(y_test, y_pred_rf)))\n",
    "\n",
    "# Display confusion matrix\n",
    "print(\"\\nRandom Forest Confusion Matrix: \\n\")\n",
    "rf_cm = metrics.confusion_matrix(y_test, y_pred_rf)\n",
    "labels =  np.array([[rf_cm[0,0],rf_cm[0,1]],[rf_cm[1,0],rf_cm[1,1]]])\n",
    "sns.heatmap(rf_cm, annot=labels, fmt = '')\n",
    "plt.show()\n",
    "\n",
    "# Display classification report\n",
    "print(\"\\nRandom Forest Classification Report: \\n\")\n",
    "print(metrics.classification_report(y_test, y_pred_rf))\n",
    "\n",
    "# Calculate predicted probabilities for test data \n",
    "y_pred_prob_rf = grid_search_rf.predict_proba(x_test)[:, 1]\n",
    "\n",
    "# Save Model\n",
    "save_model(rf, \"random_forests.pkl\")\n",
    "\n",
    "# Calculate AUC Score\n",
    "print(\"\\nRandom Forest AUC Score: \", metrics.roc_auc_score(y_test, y_pred_prob_rf))\n",
    "\n",
    "# Calculate and display feature importance\n",
    "print(\"\\nDisplay the top 10 most important features: \\n\")\n",
    "feature_importances = pd.Series(grid_search_rf.best_estimator_.feature_importances_, index=x_train.columns)\n",
    "feature_importances.nlargest(10).plot(kind='barh')\n",
    "\n"
   ]
  },
  {
   "cell_type": "markdown",
   "id": "2231fdc0",
   "metadata": {
    "papermill": {
     "duration": 0.029829,
     "end_time": "2022-03-21T20:59:53.061908",
     "exception": false,
     "start_time": "2022-03-21T20:59:53.032079",
     "status": "completed"
    },
    "tags": []
   },
   "source": [
    "**Binomial Logistic Regression**"
   ]
  },
  {
   "cell_type": "code",
   "execution_count": 15,
   "id": "57430102",
   "metadata": {
    "execution": {
     "iopub.execute_input": "2022-03-21T20:59:53.131003Z",
     "iopub.status.busy": "2022-03-21T20:59:53.127922Z",
     "iopub.status.idle": "2022-03-21T20:59:53.962207Z",
     "shell.execute_reply": "2022-03-21T20:59:53.961446Z"
    },
    "papermill": {
     "duration": 0.871484,
     "end_time": "2022-03-21T20:59:53.962331",
     "exception": false,
     "start_time": "2022-03-21T20:59:53.090847",
     "status": "completed"
    },
    "tags": []
   },
   "outputs": [
    {
     "name": "stdout",
     "output_type": "stream",
     "text": [
      "Accuracy is:  0.8557906458797327\n",
      "Mean Squared Error is: 0.3797490673066456\n",
      "\n",
      "Binomial Logistic Regression - Confusion Matrix: \n",
      "\n"
     ]
    },
    {
     "data": {
      "image/png": "[encoded data removed]",
      "text/plain": [
       "<Figure size 432x288 with 2 Axes>"
      ]
     },
     "metadata": {
      "needs_background": "light"
     },
     "output_type": "display_data"
    },
    {
     "name": "stdout",
     "output_type": "stream",
     "text": [
      "\n",
      "Binomial Logistic Regression - Classification Report: \n",
      "              precision    recall  f1-score   support\n",
      "\n",
      "           0       0.85      0.85      0.85      4315\n",
      "           1       0.86      0.86      0.86      4665\n",
      "\n",
      "    accuracy                           0.86      8980\n",
      "   macro avg       0.86      0.86      0.86      8980\n",
      "weighted avg       0.86      0.86      0.86      8980\n",
      "\n",
      "\n",
      "The model was saved successfully.\n",
      "\n",
      "Binomial Logistic Regression - AUC Score: \n",
      "\n",
      "Receiver Operating Characteristic (ROC) Curve: \n",
      "\n"
     ]
    },
    {
     "data": {
      "text/plain": [
       "<sklearn.metrics._plot.roc_curve.RocCurveDisplay at 0x7f0cf8b59dd0>"
      ]
     },
     "execution_count": 15,
     "metadata": {},
     "output_type": "execute_result"
    },
    {
     "data": {
      "image/png": "[encoded data removed]",
      "text/plain": [
       "<Figure size 432x288 with 1 Axes>"
      ]
     },
     "metadata": {
      "needs_background": "light"
     },
     "output_type": "display_data"
    }
   ],
   "source": [
    "from sklearn.linear_model import LogisticRegression\n",
    "\n",
    "# Load classifier\n",
    "lr = LogisticRegression()\n",
    "\n",
    "# Train classifier\n",
    "lr.fit(x_train, np.ravel(y_train))\n",
    "\n",
    "# Test classifier\n",
    "y_pred_lr = lr.predict(x_test)\n",
    "\n",
    "# Calculate performance metrics\n",
    "print (\"Accuracy is: \", metrics.accuracy_score(y_test, y_pred_lr))\n",
    "print(\"Mean Squared Error is:\", np.sqrt(mean_squared_error(y_test, y_pred_lr)))\n",
    "\n",
    "# Display confusion matrix\n",
    "lr_cm = metrics.confusion_matrix(y_test, y_pred_lr)\n",
    "print(\"\\nBinomial Logistic Regression - Confusion Matrix: \\n\")\n",
    "labels =  np.array([[lr_cm[0,0],lr_cm[0,1]],[lr_cm[1,0],lr_cm[1,1]]])\n",
    "sns.heatmap(lr_cm, annot=labels, fmt = '')\n",
    "plt.show()\n",
    "\n",
    "# Display classification report\n",
    "print(\"\\nBinomial Logistic Regression - Classification Report: \")\n",
    "print(metrics.classification_report(y_test, y_pred_lr))\n",
    "\n",
    "# Save Binomial Logistic Regression Model\n",
    "save_model(lr, \"binomial_logistic_regression.pkl\")\n",
    "\n",
    "# Calculate predicted probabilities for test data \n",
    "y_pred_prob_lr = lr.predict_proba(x_test)[:, 1]\n",
    "\n",
    "# Calculate AUC Score \n",
    "print(\"\\nBinomial Logistic Regression - AUC Score: \")\n",
    "metrics.roc_auc_score(y_test, y_pred_prob_lr)\n",
    "\n",
    "# Plot ROC curve\n",
    "print(\"\\nReceiver Operating Characteristic (ROC) Curve: \\n\")\n",
    "metrics.plot_roc_curve(lr, x_test, y_test)"
   ]
  },
  {
   "cell_type": "markdown",
   "id": "511b48b3",
   "metadata": {
    "papermill": {
     "duration": 0.030766,
     "end_time": "2022-03-21T20:59:54.024320",
     "exception": false,
     "start_time": "2022-03-21T20:59:53.993554",
     "status": "completed"
    },
    "tags": []
   },
   "source": [
    "**Decision Trees: CART**"
   ]
  },
  {
   "cell_type": "code",
   "execution_count": 16,
   "id": "c0316884",
   "metadata": {
    "execution": {
     "iopub.execute_input": "2022-03-21T20:59:54.100295Z",
     "iopub.status.busy": "2022-03-21T20:59:54.099222Z",
     "iopub.status.idle": "2022-03-21T20:59:56.295559Z",
     "shell.execute_reply": "2022-03-21T20:59:56.295112Z"
    },
    "papermill": {
     "duration": 2.239265,
     "end_time": "2022-03-21T20:59:56.295676",
     "exception": false,
     "start_time": "2022-03-21T20:59:54.056411",
     "status": "completed"
    },
    "tags": []
   },
   "outputs": [
    {
     "name": "stdout",
     "output_type": "stream",
     "text": [
      "Accuracy: 0.8479955456570156\n",
      "\n",
      "Mean Squared Error: 0.38987748632485103\n",
      "\n",
      "\n",
      "Decision Tree (CART) Confusion Matrix: \n",
      "\n"
     ]
    },
    {
     "data": {
      "image/png": "[encoded data removed]",
      "text/plain": [
       "<Figure size 432x288 with 2 Axes>"
      ]
     },
     "metadata": {
      "needs_background": "light"
     },
     "output_type": "display_data"
    },
    {
     "name": "stdout",
     "output_type": "stream",
     "text": [
      "\n",
      "Decision Tree (CART) Classification Report: \n",
      "\n",
      "              precision    recall  f1-score   support\n",
      "\n",
      "           0       0.86      0.82      0.84      4315\n",
      "           1       0.84      0.88      0.86      4665\n",
      "\n",
      "    accuracy                           0.85      8980\n",
      "   macro avg       0.85      0.85      0.85      8980\n",
      "weighted avg       0.85      0.85      0.85      8980\n",
      "\n",
      "\n",
      "The model was saved successfully.\n",
      "Decision Tree (CART) AUC Score: 0.8467601614051037\n",
      "\n",
      "Receiver Operating Characteristic (ROC) Curve: \n",
      "\n"
     ]
    },
    {
     "data": {
      "text/plain": [
       "<sklearn.metrics._plot.roc_curve.RocCurveDisplay at 0x7f0cf8aca910>"
      ]
     },
     "execution_count": 16,
     "metadata": {},
     "output_type": "execute_result"
    },
    {
     "data": {
      "image/png": "[encoded data removed]",
      "text/plain": [
       "<Figure size 432x288 with 1 Axes>"
      ]
     },
     "metadata": {
      "needs_background": "light"
     },
     "output_type": "display_data"
    }
   ],
   "source": [
    "from sklearn import tree\n",
    "\n",
    "# Load classifier\n",
    "decision_tree = tree.DecisionTreeClassifier(criterion='entropy', random_state=4) # for these parameters the model performed better than having the default values.\n",
    "\n",
    "# Train classifier\n",
    "decision_tree.fit(x_train, np.ravel(y_train))\n",
    "\n",
    "# Test the model\n",
    "y_pred_dt = decision_tree.predict(x_test)\n",
    "\n",
    "# Calculate performance metrics\n",
    "print(f\"Accuracy: {metrics.accuracy_score(y_test,y_pred_dt)}\\n\")\n",
    "print(f\"Mean Squared Error: {np.sqrt(mean_squared_error(y_test, y_pred_dt))}\\n\")\n",
    "\n",
    "# Display confusion matrix\n",
    "cart_cm = metrics.confusion_matrix(y_test,y_pred_dt)\n",
    "print(\"\\nDecision Tree (CART) Confusion Matrix: \\n\")\n",
    "labels =  np.array([[cart_cm[0,0],cart_cm[0,1]],[cart_cm[1,0],cart_cm[1,1]]])\n",
    "sns.heatmap(cart_cm, annot=labels, fmt = '')\n",
    "plt.show()\n",
    "\n",
    "# Display classification report\n",
    "print(\"\\nDecision Tree (CART) Classification Report: \\n\")\n",
    "print(metrics.classification_report(y_test,y_pred_dt))\n",
    "\n",
    "# Save decision tree CART model\n",
    "save_model(decision_tree, \"decision_tree_cart.pkl\")\n",
    "\n",
    "# Calculate AUC Score\n",
    "print(f\"Decision Tree (CART) AUC Score: {metrics.roc_auc_score(y_test, y_pred_dt)}\")\n",
    "\n",
    "# Plot ROC curve\n",
    "print(\"\\nReceiver Operating Characteristic (ROC) Curve: \\n\")\n",
    "metrics.plot_roc_curve(decision_tree, x_test, y_test)"
   ]
  },
  {
   "cell_type": "markdown",
   "id": "5427af01",
   "metadata": {
    "papermill": {
     "duration": 0.033067,
     "end_time": "2022-03-21T20:59:56.362356",
     "exception": false,
     "start_time": "2022-03-21T20:59:56.329289",
     "status": "completed"
    },
    "tags": []
   },
   "source": [
    "**k Nearest Neighbors**"
   ]
  },
  {
   "cell_type": "code",
   "execution_count": 17,
   "id": "464ccf5a",
   "metadata": {
    "execution": {
     "iopub.execute_input": "2022-03-21T20:59:56.439924Z",
     "iopub.status.busy": "2022-03-21T20:59:56.435873Z",
     "iopub.status.idle": "2022-03-21T21:02:27.552680Z",
     "shell.execute_reply": "2022-03-21T21:02:27.553098Z"
    },
    "papermill": {
     "duration": 151.157847,
     "end_time": "2022-03-21T21:02:27.553268",
     "exception": false,
     "start_time": "2022-03-21T20:59:56.395421",
     "status": "completed"
    },
    "tags": []
   },
   "outputs": [
    {
     "name": "stdout",
     "output_type": "stream",
     "text": [
      "Accuracy: 0.8815144766146993\n",
      "\n",
      "Mean Squared Error: 0.3442172618932709\n",
      "\n",
      "\n",
      "Confusion Matrix: \n",
      "\n"
     ]
    },
    {
     "data": {
      "image/png": "[encoded data removed]",
      "text/plain": [
       "<Figure size 432x288 with 2 Axes>"
      ]
     },
     "metadata": {
      "needs_background": "light"
     },
     "output_type": "display_data"
    },
    {
     "name": "stdout",
     "output_type": "stream",
     "text": [
      "\n",
      "Classification Report: \n",
      "\n",
      "              precision    recall  f1-score   support\n",
      "\n",
      "           0       0.89      0.86      0.87      4315\n",
      "           1       0.87      0.90      0.89      4665\n",
      "\n",
      "    accuracy                           0.88      8980\n",
      "   macro avg       0.88      0.88      0.88      8980\n",
      "weighted avg       0.88      0.88      0.88      8980\n",
      "\n",
      "\n",
      "The model was saved successfully.\n",
      "k Nearest Neighbors AUC Score: 0.8806474088370413\n",
      "\n",
      "Receiver Operating Characteristic (ROC) Curve: \n",
      "\n"
     ]
    },
    {
     "data": {
      "text/plain": [
       "<sklearn.metrics._plot.roc_curve.RocCurveDisplay at 0x7f0cf8ae0810>"
      ]
     },
     "execution_count": 17,
     "metadata": {},
     "output_type": "execute_result"
    },
    {
     "data": {
      "image/png": "[encoded data removed]",
      "text/plain": [
       "<Figure size 432x288 with 1 Axes>"
      ]
     },
     "metadata": {
      "needs_background": "light"
     },
     "output_type": "display_data"
    }
   ],
   "source": [
    "from sklearn.neighbors import KNeighborsClassifier\n",
    "\n",
    "# Load classifier\n",
    "n_neighbors = 8\n",
    "knn = KNeighborsClassifier(n_neighbors, weights='distance')\n",
    "\n",
    "# Train classifier\n",
    "knn.fit(x_train, np.ravel(y_train))\n",
    "\n",
    "# Test the model\n",
    "y_pred_knn = knn.predict(x_test)\n",
    "\n",
    "# Calculate performance metrics\n",
    "print(f\"Accuracy: {metrics.accuracy_score(y_test,y_pred_knn)}\\n\")\n",
    "print(f\"Mean Squared Error: {np.sqrt(mean_squared_error(y_test, y_pred_knn))}\\n\")\n",
    "\n",
    "# Display confusion matrix\n",
    "knn_cm = metrics.confusion_matrix(y_test,y_pred_knn)\n",
    "print(\"\\nConfusion Matrix: \\n\")\n",
    "labels =  np.array([[knn_cm[0,0],knn_cm[0,1]],[knn_cm[1,0],knn_cm[1,1]]])\n",
    "sns.heatmap(knn_cm, annot=labels, fmt = '')\n",
    "plt.show()\n",
    "\n",
    "# Display classification report\n",
    "print(\"\\nClassification Report: \\n\")\n",
    "print(metrics.classification_report(y_test,y_pred_knn))\n",
    "\n",
    "# Save kNN model\n",
    "save_model(knn, \"kNN.pkl\")\n",
    "\n",
    "# Calculate AUC Score\n",
    "print(f\"k Nearest Neighbors AUC Score: {metrics.roc_auc_score(y_test, y_pred_knn)}\")\n",
    "\n",
    "# Plot ROC curve\n",
    "print(\"\\nReceiver Operating Characteristic (ROC) Curve: \\n\")\n",
    "metrics.plot_roc_curve(knn, x_test, y_test)"
   ]
  },
  {
   "cell_type": "markdown",
   "id": "70de0193",
   "metadata": {
    "papermill": {
     "duration": 0.03546,
     "end_time": "2022-03-21T21:02:27.624852",
     "exception": false,
     "start_time": "2022-03-21T21:02:27.589392",
     "status": "completed"
    },
    "tags": []
   },
   "source": [
    "**Passive Aggressive**"
   ]
  },
  {
   "cell_type": "code",
   "execution_count": 18,
   "id": "8ce2572e",
   "metadata": {
    "execution": {
     "iopub.execute_input": "2022-03-21T21:02:27.706253Z",
     "iopub.status.busy": "2022-03-21T21:02:27.703868Z",
     "iopub.status.idle": "2022-03-21T21:02:28.338788Z",
     "shell.execute_reply": "2022-03-21T21:02:28.339307Z"
    },
    "papermill": {
     "duration": 0.679193,
     "end_time": "2022-03-21T21:02:28.339476",
     "exception": false,
     "start_time": "2022-03-21T21:02:27.660283",
     "status": "completed"
    },
    "tags": []
   },
   "outputs": [
    {
     "name": "stdout",
     "output_type": "stream",
     "text": [
      "Accuracy: 0.837750556792873\n",
      "\n",
      "Mean Squared Error: 0.4028019900734441\n",
      "\n",
      "\n",
      "Passive Aggressive Confusion Matrix: \n",
      "\n"
     ]
    },
    {
     "data": {
      "image/png": "[encoded data removed]",
      "text/plain": [
       "<Figure size 432x288 with 2 Axes>"
      ]
     },
     "metadata": {
      "needs_background": "light"
     },
     "output_type": "display_data"
    },
    {
     "name": "stdout",
     "output_type": "stream",
     "text": [
      "\n",
      "Passive Aggressive Classification Report: \n",
      "\n",
      "              precision    recall  f1-score   support\n",
      "\n",
      "           0       0.82      0.85      0.83      4315\n",
      "           1       0.86      0.82      0.84      4665\n",
      "\n",
      "    accuracy                           0.84      8980\n",
      "   macro avg       0.84      0.84      0.84      8980\n",
      "weighted avg       0.84      0.84      0.84      8980\n",
      "\n",
      "\n",
      "The model was saved successfully.\n",
      "\n",
      "Passive Aggressive AUC Score: 0.838273104489809\n",
      "\n",
      "Receiver Operating Characteristic (ROC) Curve: \n",
      "\n"
     ]
    },
    {
     "data": {
      "text/plain": [
       "<sklearn.metrics._plot.roc_curve.RocCurveDisplay at 0x7f0cf893c290>"
      ]
     },
     "execution_count": 18,
     "metadata": {},
     "output_type": "execute_result"
    },
    {
     "data": {
      "image/png": "[encoded data removed]",
      "text/plain": [
       "<Figure size 432x288 with 1 Axes>"
      ]
     },
     "metadata": {
      "needs_background": "light"
     },
     "output_type": "display_data"
    }
   ],
   "source": [
    "from sklearn.linear_model import PassiveAggressiveClassifier\n",
    "\n",
    "# Load classifier\n",
    "pac=PassiveAggressiveClassifier(max_iter=50)\n",
    "\n",
    "# Train classifier\n",
    "pac.fit(x_train,np.ravel(y_train))\n",
    "\n",
    "# Test the model\n",
    "y_pred_pac=pac.predict(x_test)\n",
    "\n",
    "# Calculate performance metrics\n",
    "print(f\"Accuracy: {metrics.accuracy_score(y_test,y_pred_pac)}\\n\")\n",
    "print(f\"Mean Squared Error: {np.sqrt(mean_squared_error(y_test, y_pred_pac))}\\n\")\n",
    "\n",
    "# Display confusion matrix\n",
    "print(\"\\nPassive Aggressive Confusion Matrix: \\n\")\n",
    "pac_cm = metrics.confusion_matrix(y_test,y_pred_pac)\n",
    "labels =  np.array([[pac_cm[0,0],pac_cm[0,1]],[pac_cm[1,0],pac_cm[1,1]]])\n",
    "sns.heatmap(pac_cm, annot=labels, fmt = '')\n",
    "plt.show()\n",
    "\n",
    "# Display classification report\n",
    "print(\"\\nPassive Aggressive Classification Report: \\n\")\n",
    "print(metrics.classification_report(y_test,y_pred_pac))\n",
    "\n",
    "# Save model\n",
    "save_model(pac, \"pac.pkl\")\n",
    "\n",
    "# Calculate AUC Score\n",
    "print(f\"\\nPassive Aggressive AUC Score: {metrics.roc_auc_score(y_test, y_pred_pac)}\")\n",
    "\n",
    "# Plot ROC curve\n",
    "print(\"\\nReceiver Operating Characteristic (ROC) Curve: \\n\")\n",
    "metrics.plot_roc_curve(pac, x_test, y_test)"
   ]
  },
  {
   "cell_type": "markdown",
   "id": "4469a182",
   "metadata": {
    "papermill": {
     "duration": 0.037579,
     "end_time": "2022-03-21T21:02:28.415603",
     "exception": false,
     "start_time": "2022-03-21T21:02:28.378024",
     "status": "completed"
    },
    "tags": []
   },
   "source": [
    "**AdaBoost** \n",
    "\n",
    "Using the default base estimator which is the CART Decision Tree classification algorithm."
   ]
  },
  {
   "cell_type": "code",
   "execution_count": 19,
   "id": "ee18d6a9",
   "metadata": {
    "execution": {
     "iopub.execute_input": "2022-03-21T21:02:28.499121Z",
     "iopub.status.busy": "2022-03-21T21:02:28.498292Z",
     "iopub.status.idle": "2022-03-21T21:04:09.535979Z",
     "shell.execute_reply": "2022-03-21T21:04:09.535538Z"
    },
    "papermill": {
     "duration": 101.082704,
     "end_time": "2022-03-21T21:04:09.536114",
     "exception": false,
     "start_time": "2022-03-21T21:02:28.453410",
     "status": "completed"
    },
    "tags": []
   },
   "outputs": [
    {
     "name": "stdout",
     "output_type": "stream",
     "text": [
      "Accuracy: 0.8776169265033408\n",
      "\n",
      "\n",
      "AdaBoost Confusion Matrix: \n",
      "\n"
     ]
    },
    {
     "data": {
      "image/png": "[encoded data removed]",
      "text/plain": [
       "<Figure size 432x288 with 2 Axes>"
      ]
     },
     "metadata": {
      "needs_background": "light"
     },
     "output_type": "display_data"
    },
    {
     "name": "stdout",
     "output_type": "stream",
     "text": [
      "\n",
      "AdaBoost Classification Report: \n",
      "\n",
      "              precision    recall  f1-score   support\n",
      "\n",
      "           0       0.87      0.88      0.87      4315\n",
      "           1       0.88      0.88      0.88      4665\n",
      "\n",
      "    accuracy                           0.88      8980\n",
      "   macro avg       0.88      0.88      0.88      8980\n",
      "weighted avg       0.88      0.88      0.88      8980\n",
      "\n",
      "\n",
      "The model was saved successfully.\n",
      "AdaBoost AUC Score: 0.8775654854386415\n",
      "\n",
      "Receiver Operating Characteristic (ROC) Curve: \n",
      "\n"
     ]
    },
    {
     "data": {
      "text/plain": [
       "<sklearn.metrics._plot.roc_curve.RocCurveDisplay at 0x7f0cf85a6810>"
      ]
     },
     "execution_count": 19,
     "metadata": {},
     "output_type": "execute_result"
    },
    {
     "data": {
      "image/png": "[encoded data removed]",
      "text/plain": [
       "<Figure size 432x288 with 1 Axes>"
      ]
     },
     "metadata": {
      "needs_background": "light"
     },
     "output_type": "display_data"
    }
   ],
   "source": [
    "from sklearn.ensemble import AdaBoostClassifier\n",
    "\n",
    "# Load classifier\n",
    "adaboost = AdaBoostClassifier(n_estimators=850)\n",
    "\n",
    "# Train classifier\n",
    "adaboost.fit(x_train, np.ravel(y_train))\n",
    "\n",
    "# Test the model\n",
    "y_pred_ab = adaboost.predict(x_test)\n",
    "\n",
    "# Calculate performance metrics\n",
    "print(f\"Accuracy: {metrics.accuracy_score(y_test,y_pred_ab)}\\n\")\n",
    "\n",
    "# Display confusion matrix\n",
    "ab_cm = metrics.confusion_matrix(y_test,y_pred_ab)\n",
    "print(\"\\nAdaBoost Confusion Matrix: \\n\")\n",
    "labels =  np.array([[ab_cm[0,0],ab_cm[0,1]],[ab_cm[1,0],ab_cm[1,1]]])\n",
    "sns.heatmap(ab_cm, annot=labels, fmt = '')\n",
    "plt.show()\n",
    "\n",
    "# Display classification report\n",
    "print(\"\\nAdaBoost Classification Report: \\n\")\n",
    "print(metrics.classification_report(y_test,y_pred_ab))\n",
    "\n",
    "# Save model\n",
    "save_model(adaboost, \"adaboost.pkl\")\n",
    "\n",
    "# Calculate Decision Tree AUC Score\n",
    "print(f\"AdaBoost AUC Score: {metrics.roc_auc_score(y_test, y_pred_ab)}\")\n",
    "\n",
    "# Plot ROC curve\n",
    "print(\"\\nReceiver Operating Characteristic (ROC) Curve: \\n\")\n",
    "metrics.plot_roc_curve(adaboost, x_test, y_test)"
   ]
  },
  {
   "cell_type": "markdown",
   "id": "dbf537f6",
   "metadata": {
    "papermill": {
     "duration": 0.040137,
     "end_time": "2022-03-21T21:04:09.616733",
     "exception": false,
     "start_time": "2022-03-21T21:04:09.576596",
     "status": "completed"
    },
    "tags": []
   },
   "source": [
    "# **Data Mining Phase II: *Topic Modelling***"
   ]
  },
  {
   "cell_type": "markdown",
   "id": "59a4b5f4",
   "metadata": {
    "papermill": {
     "duration": 0.039954,
     "end_time": "2022-03-21T21:04:09.697018",
     "exception": false,
     "start_time": "2022-03-21T21:04:09.657064",
     "status": "completed"
    },
    "tags": []
   },
   "source": [
    "**Latent Dirichlet Allocation (LDA)**"
   ]
  },
  {
   "cell_type": "code",
   "execution_count": 20,
   "id": "440299d3",
   "metadata": {
    "execution": {
     "iopub.execute_input": "2022-03-21T21:04:09.784578Z",
     "iopub.status.busy": "2022-03-21T21:04:09.783864Z",
     "iopub.status.idle": "2022-03-21T21:04:09.900767Z",
     "shell.execute_reply": "2022-03-21T21:04:09.900242Z"
    },
    "papermill": {
     "duration": 0.164033,
     "end_time": "2022-03-21T21:04:09.900913",
     "exception": false,
     "start_time": "2022-03-21T21:04:09.736880",
     "status": "completed"
    },
    "tags": []
   },
   "outputs": [],
   "source": [
    "import gensim\n",
    "import gensim.corpora as corpora\n",
    "from pprint import pprint\n",
    "\n",
    "# Set number of topics to predict\n",
    "num_topics = 4\n",
    "\n",
    "def get_lda_corpus(dataset):\n",
    "    # Create Dictionary\n",
    "    id2word = corpora.Dictionary(dataset)\n",
    "    # Create Corpus\n",
    "    articles = dataset\n",
    "    # Term Document Frequency\n",
    "    corpus = [id2word.doc2bow(article) for article in articles]\n",
    "    # View\n",
    "    print(corpus[:1][0][:30])\n",
    "    return corpus, id2word\n",
    "\n",
    "def build_lda(corpus, id2word, num_topics):\n",
    "    # Build LDA model\n",
    "    lda_model = gensim.models.LdaMulticore(corpus=corpus,\n",
    "                                           id2word=id2word,\n",
    "                                           num_topics=num_topics)\n",
    "    # Print the Keyword in the 10 topics\n",
    "    pprint(lda_model.print_topics())\n",
    "    return lda_model\n",
    "\n",
    "def get_lda_topics(lda_model, corpus):\n",
    "    doc_lda = lda_model[corpus]\n",
    "    return doc_lda   \n"
   ]
  },
  {
   "cell_type": "code",
   "execution_count": 21,
   "id": "2716f935",
   "metadata": {
    "execution": {
     "iopub.execute_input": "2022-03-21T21:04:09.991024Z",
     "iopub.status.busy": "2022-03-21T21:04:09.990334Z",
     "iopub.status.idle": "2022-03-21T21:04:10.069040Z",
     "shell.execute_reply": "2022-03-21T21:04:10.069645Z"
    },
    "papermill": {
     "duration": 0.126288,
     "end_time": "2022-03-21T21:04:10.069830",
     "exception": false,
     "start_time": "2022-03-21T21:04:09.943542",
     "status": "completed"
    },
    "tags": []
   },
   "outputs": [
    {
     "name": "stderr",
     "output_type": "stream",
     "text": [
      "/opt/conda/lib/python3.7/site-packages/past/types/oldstr.py:36: DeprecationWarning: invalid escape sequence \\d\n",
      "  \"\"\"\n"
     ]
    }
   ],
   "source": [
    "import pyLDAvis.gensim\n",
    "import pickle \n",
    "import pyLDAvis\n",
    "\n",
    "# Visualize the topics\n",
    "def plot_topics(num_topics, lda_model, corpus, id2word):\n",
    "    pyLDAvis.enable_notebook()\n",
    "    LDAvis_data_filepath = os.path.join('./ldavis_prepared_'+str(num_topics))\n",
    "    # # this is a bit time consuming - make the if statement True\n",
    "    # # if you want to execute visualization prep yourself\n",
    "    if 1 == 1:\n",
    "        LDAvis_prepared = pyLDAvis.gensim.prepare(lda_model, corpus, id2word)\n",
    "        with open(LDAvis_data_filepath, 'wb') as f:\n",
    "            pickle.dump(LDAvis_prepared, f)\n",
    "    # load the pre-prepared pyLDAvis data from disk\n",
    "    with open(LDAvis_data_filepath, 'rb') as f:\n",
    "        LDAvis_prepared = pickle.load(f)\n",
    "    pyLDAvis.save_html(LDAvis_prepared, './ldavis_prepared_'+ str(num_topics) +'.html')\n",
    "    print(LDAvis_prepared)"
   ]
  },
  {
   "cell_type": "code",
   "execution_count": 22,
   "id": "e51f2778",
   "metadata": {
    "execution": {
     "iopub.execute_input": "2022-03-21T21:04:10.217020Z",
     "iopub.status.busy": "2022-03-21T21:04:10.196387Z",
     "iopub.status.idle": "2022-03-21T21:06:54.070287Z",
     "shell.execute_reply": "2022-03-21T21:06:54.070893Z"
    },
    "papermill": {
     "duration": 163.95906,
     "end_time": "2022-03-21T21:06:54.071122",
     "exception": false,
     "start_time": "2022-03-21T21:04:10.112062",
     "status": "completed"
    },
    "tags": []
   },
   "outputs": [
    {
     "name": "stdout",
     "output_type": "stream",
     "text": [
      "[(0, 1), (1, 1), (2, 3), (3, 2), (4, 1), (5, 1), (6, 1), (7, 1), (8, 1), (9, 1), (10, 1), (11, 1), (12, 2), (13, 1), (14, 1), (15, 1), (16, 2), (17, 1), (18, 1), (19, 13), (20, 1), (21, 1), (22, 1), (23, 1), (24, 3), (25, 3), (26, 1), (27, 5), (28, 1), (29, 3)]\n",
      "[(0, 1), (1, 1), (2, 3), (3, 2), (4, 1), (5, 1), (6, 1), (7, 1), (8, 1), (9, 1), (10, 1), (11, 1), (12, 2), (13, 1), (14, 1), (15, 1), (16, 2), (17, 1), (18, 1), (19, 13), (20, 1), (21, 1), (22, 1), (23, 1), (24, 3), (25, 3), (26, 1), (27, 5), (28, 1), (29, 3)]\n",
      "[(0,\n",
      "  '0.031*\"trump\" + 0.011*\"president\" + 0.011*\"clinton\" + 0.010*\"hillary\" + '\n",
      "  '0.008*\"election\" + 0.008*\"donald\" + 0.006*\"republican\" + 0.006*\"obama\" + '\n",
      "  '0.006*\"campaign\" + 0.006*\"party\"'),\n",
      " (1,\n",
      "  '0.009*\"trump\" + 0.007*\"people\" + 0.006*\"medium\" + 0.005*\"black\" + '\n",
      "  '0.005*\"white\" + 0.004*\"time\" + 0.004*\"student\" + 0.004*\"american\" + '\n",
      "  '0.004*\"police\" + 0.004*\"president\"'),\n",
      " (2,\n",
      "  '0.005*\"people\" + 0.005*\"american\" + 0.005*\"government\" + 0.005*\"obama\" + '\n",
      "  '0.004*\"time\" + 0.004*\"president\" + 0.004*\"country\" + 0.003*\"trump\" + '\n",
      "  '0.003*\"news\" + 0.003*\"war\"'),\n",
      " (3,\n",
      "  '0.009*\"clinton\" + 0.007*\"news\" + 0.006*\"fbi\" + 0.006*\"medium\" + '\n",
      "  '0.006*\"trump\" + 0.005*\"russian\" + 0.005*\"story\" + 0.005*\"hillary\" + '\n",
      "  '0.005*\"report\" + 0.004*\"time\"')]\n"
     ]
    },
    {
     "name": "stderr",
     "output_type": "stream",
     "text": [
      "/opt/conda/lib/python3.7/site-packages/pyLDAvis/_prepare.py:248: FutureWarning: In a future version of pandas all arguments of DataFrame.drop except for the argument 'labels' will be keyword-only\n",
      "  by='saliency', ascending=False).head(R).drop('saliency', 1)\n"
     ]
    },
    {
     "name": "stdout",
     "output_type": "stream",
     "text": [
      "PreparedData(topic_coordinates=              x         y  topics  cluster       Freq\n",
      "topic                                                \n",
      "0     -0.091776  0.025670       1        1  29.237510\n",
      "2      0.052732 -0.037064       2        1  25.500144\n",
      "1     -0.010249 -0.062961       3        1  25.303184\n",
      "3      0.049292  0.074355       4        1  19.959161, topic_info=          Term          Freq         Total Category  logprob  loglift\n",
      "97       trump  52355.000000  52355.000000  Default  30.0000  30.0000\n",
      "123    clinton  22162.000000  22162.000000  Default  29.0000  29.0000\n",
      "153    hillary  16974.000000  16974.000000  Default  28.0000  28.0000\n",
      "148        fbi   5447.000000   5447.000000  Default  27.0000  27.0000\n",
      "145   election  13097.000000  13097.000000  Default  26.0000  26.0000\n",
      "...        ...           ...           ...      ...      ...      ...\n",
      "895     public   2218.895869   7237.048371   Topic4  -5.8658   0.4293\n",
      "1017      told   2170.382668   7890.495914   Topic4  -5.8879   0.3207\n",
      "120   campaign   2299.648234  11259.474185   Topic4  -5.8301   0.0230\n",
      "145   election   2253.309096  13097.586514   Topic4  -5.8504  -0.1485\n",
      "377      obama   2126.284479  17264.753891   Topic4  -5.9084  -0.4828\n",
      "\n",
      "[405 rows x 6 columns], token_table=       Topic      Freq     Term\n",
      "term                           \n",
      "13738      1  0.069528   abedin\n",
      "13738      2  0.048927   abedin\n",
      "13738      3  0.002575   abedin\n",
      "13738      4  0.880687   abedin\n",
      "27500      1  0.007353   aerial\n",
      "...      ...       ...      ...\n",
      "16425      3  0.085954    yemen\n",
      "16425      4  0.041324    yemen\n",
      "48361      2  0.964916   yemeni\n",
      "48361      3  0.016082   yemeni\n",
      "60698      4  0.983504  zeifman\n",
      "\n",
      "[1060 rows x 3 columns], R=30, lambda_step=0.01, plot_opts={'xlab': 'PC1', 'ylab': 'PC2'}, topic_order=[1, 3, 2, 4])\n",
      "[(0, 1), (1, 1), (2, 2), (3, 1), (4, 3), (5, 1), (6, 1), (7, 1), (8, 1), (9, 1), (10, 1), (11, 1), (12, 1), (13, 1), (14, 1), (15, 1), (16, 1), (17, 1), (18, 1), (19, 1), (20, 5), (21, 1), (22, 1), (23, 1), (24, 1), (25, 1), (26, 3), (27, 1), (28, 1), (29, 1)]\n",
      "[(0, 1), (1, 1), (2, 2), (3, 1), (4, 3), (5, 1), (6, 1), (7, 1), (8, 1), (9, 1), (10, 1), (11, 1), (12, 1), (13, 1), (14, 1), (15, 1), (16, 1), (17, 1), (18, 1), (19, 1), (20, 5), (21, 1), (22, 1), (23, 1), (24, 1), (25, 1), (26, 3), (27, 1), (28, 1), (29, 1)]\n",
      "[(0,\n",
      "  '0.027*\"trump\" + 0.011*\"republican\" + 0.009*\"president\" + 0.009*\"house\" + '\n",
      "  '0.008*\"party\" + 0.007*\"percent\" + 0.005*\"white\" + 0.005*\"campaign\" + '\n",
      "  '0.005*\"donald\" + 0.005*\"obama\"'),\n",
      " (1,\n",
      "  '0.008*\"government\" + 0.007*\"north\" + 0.006*\"minister\" + 0.006*\"united\" + '\n",
      "  '0.006*\"country\" + 0.006*\"president\" + 0.006*\"korea\" + 0.005*\"party\" + '\n",
      "  '0.005*\"told\" + 0.005*\"official\"'),\n",
      " (2,\n",
      "  '0.015*\"party\" + 0.013*\"election\" + 0.008*\"court\" + 0.007*\"government\" + '\n",
      "  '0.007*\"president\" + 0.007*\"vote\" + 0.006*\"percent\" + 0.005*\"trump\" + '\n",
      "  '0.004*\"campaign\" + 0.004*\"clinton\"'),\n",
      " (3,\n",
      "  '0.009*\"people\" + 0.007*\"government\" + 0.007*\"police\" + 0.006*\"myanmar\" + '\n",
      "  '0.005*\"rohingya\" + 0.004*\"country\" + 0.004*\"court\" + 0.004*\"security\" + '\n",
      "  '0.004*\"told\" + 0.004*\"president\"')]\n"
     ]
    },
    {
     "name": "stderr",
     "output_type": "stream",
     "text": [
      "/opt/conda/lib/python3.7/site-packages/pyLDAvis/_prepare.py:248: FutureWarning: In a future version of pandas all arguments of DataFrame.drop except for the argument 'labels' will be keyword-only\n",
      "  by='saliency', ascending=False).head(R).drop('saliency', 1)\n"
     ]
    },
    {
     "name": "stdout",
     "output_type": "stream",
     "text": [
      "PreparedData(topic_coordinates=              x         y  topics  cluster       Freq\n",
      "topic                                                \n",
      "0     -0.061208  0.034949       1        1  31.869975\n",
      "1      0.077274  0.049219       2        1  30.444793\n",
      "3      0.047707 -0.063077       3        1  19.535821\n",
      "2     -0.063773 -0.021091       4        1  18.149410, topic_info=            Term          Freq         Total Category  logprob  loglift\n",
      "204        trump  40663.000000  40663.000000  Default  30.0000  30.0000\n",
      "60      election  17597.000000  17597.000000  Default  29.0000  29.0000\n",
      "139        party  26800.000000  26800.000000  Default  28.0000  28.0000\n",
      "8743     myanmar   4556.000000   4556.000000  Default  27.0000  27.0000\n",
      "167   republican  15286.000000  15286.000000  Default  26.0000  26.0000\n",
      "...          ...           ...           ...      ...      ...      ...\n",
      "197      support   1758.338408   8665.768746   Topic4  -5.9281   0.1115\n",
      "128        month   1767.499375   9434.377279   Topic4  -5.9229   0.0317\n",
      "305     official   1853.916888  13240.111386   Topic4  -5.8752  -0.2594\n",
      "145       people   1880.812635  15952.464704   Topic4  -5.8608  -0.4314\n",
      "365         week   1795.880680  11194.466163   Topic4  -5.9070  -0.1234\n",
      "\n",
      "[388 rows x 6 columns], token_table=       Topic      Freq            Term\n",
      "term                                  \n",
      "2          1  0.579492  administration\n",
      "2          2  0.189237  administration\n",
      "2          3  0.103739  administration\n",
      "2          4  0.127488  administration\n",
      "2422       1  0.730646     afghanistan\n",
      "...      ...       ...             ...\n",
      "17200      4  0.003634            zika\n",
      "37001      1  0.009823            zuma\n",
      "37001      2  0.018554            zuma\n",
      "37001      3  0.009823            zuma\n",
      "37001      4  0.961549            zuma\n",
      "\n",
      "[1150 rows x 3 columns], R=30, lambda_step=0.01, plot_opts={'xlab': 'PC1', 'ylab': 'PC2'}, topic_order=[1, 2, 4, 3])\n"
     ]
    }
   ],
   "source": [
    "\n",
    "def execute_lda(data):\n",
    "    corpus = get_lda_corpus(data)[0]\n",
    "    id2word = get_lda_corpus(data)[1]\n",
    "    lda_model = build_lda(corpus, id2word, num_topics)\n",
    "    doc_lda = get_lda_topics(lda_model, corpus)\n",
    "    plot_topics(num_topics, lda_model, corpus, id2word)\n",
    "\n",
    "# Perform LDA for fake news\n",
    "execute_lda(words_in_each_article_f)\n",
    "\n",
    "# Perform LDA for real news\n",
    "execute_lda(words_in_each_article_t)\n",
    "\n",
    "# open the generated html in a browser in order to see the displayed polts for the topic models"
   ]
  }
 ],
 "metadata": {
  "kernelspec": {
   "display_name": "Python 3",
   "language": "python",
   "name": "python3"
  },
  "language_info": {
   "codemirror_mode": {
    "name": "ipython",
    "version": 3
   },
   "file_extension": ".py",
   "mimetype": "text/x-python",
   "name": "python",
   "nbconvert_exporter": "python",
   "pygments_lexer": "ipython3",
   "version": "3.7.12"
  },
  "papermill": {
   "default_parameters": {},
   "duration": 1317.212362,
   "end_time": "2022-03-21T21:06:56.727906",
   "environment_variables": {},
   "exception": null,
   "input_path": "__notebook__.ipynb",
   "output_path": "__notebook__.ipynb",
   "parameters": {},
   "start_time": "2022-03-21T20:44:59.515544",
   "version": "2.3.3"
  }
 },
 "nbformat": 4,
 "nbformat_minor": 5
}
